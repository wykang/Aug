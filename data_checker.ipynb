{
 "cells": [
  {
   "cell_type": "code",
   "execution_count": 1,
   "metadata": {
    "collapsed": false
   },
   "outputs": [
    {
     "name": "stderr",
     "output_type": "stream",
     "text": [
      ":0: FutureWarning: IPython widgets are experimental and may change in the future.\n"
     ]
    }
   ],
   "source": [
    "%matplotlib inline\n",
    "import numpy as np\n",
    "import matplotlib.pyplot as plt\n",
    "from IPython.html.widgets import interact # Only works for IPython < 3.x.x. For 4.x.x or above, refer to https://github.com/ipython/ipywidgets\n",
    "import h5py"
   ]
  },
  {
   "cell_type": "code",
   "execution_count": 2,
   "metadata": {
    "collapsed": false
   },
   "outputs": [
    {
     "name": "stdout",
     "output_type": "stream",
     "text": [
      "datasets: [u'test_set_x', u'test_set_y', u'train_set_x', u'train_set_y', u'valid_set_x', u'valid_set_y']\n",
      "40000 10000 10000\n",
      "[size of each set]\n",
      "training_set : 40000, test_set : 10000\n",
      "[size of each batch]\n",
      "training_set : 800, test_set : 200\n"
     ]
    }
   ],
   "source": [
    "## load train & test dataset\n",
    "hf = h5py.File('../data/cifar-10.hdf5','r')\n",
    "print('datasets: {}'.format(hf.keys()))\n",
    "\n",
    "#x_train = theano.shared(hf['x_train'][()])\n",
    "#t_train = theano.shared(dense_to_one_hot(np.array(hf['t_train'][()])))\n",
    "#x_valid = theano.shared(hf['x_valid'][()])\n",
    "#t_valid = theano.shared(dense_to_one_hot(np.array(hf['t_valid'][()])))\n",
    "#x_test  = theano.shared(hf['x_test'][()])\n",
    "#t_test  = theano.shared(dense_to_one_hot(np.array(hf['t_test'][()])))\n",
    "\n",
    "n_class     = 10\n",
    "width_size  = 32\n",
    "height_size = 32\n",
    "area_size   = width_size * height_size * 3\n",
    "trainingSize = hf['train_set_x'].shape[0]\n",
    "validationSize = hf['valid_set_x'].shape[0]\n",
    "testSize = hf['test_set_x'].shape[0]\n",
    "\n",
    "print trainingSize, validationSize, testSize\n",
    "\n",
    "img_train = hf['train_set_x']\n",
    "label_train = hf['train_set_y']\n",
    "\n",
    "img_test = hf['test_set_x']\n",
    "label_test = hf['test_set_y']\n",
    "\n",
    "img_valid = hf['valid_set_x']\n",
    "label_valid = hf['valid_set_y']\n",
    "\n",
    "\n",
    "batch_size = 50\n",
    "n_class = 10\n",
    "\n",
    "n_train_batches = trainingSize\n",
    "n_test_batches = testSize\n",
    "n_train_batches /= batch_size\n",
    "n_test_batches /= batch_size\n",
    "\n",
    "print '[size of each set]'\n",
    "print ('training_set : %d, test_set : %d' %(img_train.shape[0], img_test.shape[0]))\n",
    "print '[size of each batch]'\n",
    "print ('training_set : %d, test_set : %d' %(n_train_batches, n_test_batches))"
   ]
  },
  {
   "cell_type": "code",
   "execution_count": 3,
   "metadata": {
    "collapsed": false
   },
   "outputs": [
    {
     "name": "stdout",
     "output_type": "stream",
     "text": [
      "x_train - num of data: 40000, dimension: 3072\n",
      "data shape - (width:32, height:32)\n"
     ]
    }
   ],
   "source": [
    "n_data, channel, width, height= img_train.shape\n",
    "#n_data_test, width, height, channel = img_test.shape\n",
    "d_data = width*height*channel\n",
    "print('x_train - num of data: {}, dimension: {}'.format(n_data, d_data))\n",
    "size_w, size_h = 32, 32\n",
    "print('data shape - (width:{}, height:{})'.format(size_w, size_h))\n",
    "\n",
    "def viz_image(img, pos, title):\n",
    "    img = np.rollaxis(img,0,3)\n",
    "    print img.shape\n",
    "    \n",
    "    plt.imshow(np.reshape(img, (size_w, size_h, channel)), interpolation='nearest')\n",
    "    ax = plt.gca()\n",
    "    ax.autoscale_view(False, False, False)\n",
    "\n",
    "    #plt.imshow(img, interpolation='nearest')\n",
    "    plt.title(title)    \n"
   ]
  },
  {
   "cell_type": "code",
   "execution_count": 4,
   "metadata": {
    "collapsed": false
   },
   "outputs": [
    {
     "name": "stdout",
     "output_type": "stream",
     "text": [
      "179980\n",
      "[6 9 9 ..., 6 2 8]\n",
      "45000\n"
     ]
    }
   ],
   "source": [
    "print sum(label_train).astype(int)\n",
    "print np.array(label_train)\n",
    "print sum(label_test).astype(int)"
   ]
  },
  {
   "cell_type": "code",
   "execution_count": 5,
   "metadata": {
    "collapsed": false
   },
   "outputs": [
    {
     "data": {
      "text/plain": [
       "(40000, 3, 32, 32)"
      ]
     },
     "execution_count": 5,
     "metadata": {},
     "output_type": "execute_result"
    }
   ],
   "source": [
    "img_train.shape"
   ]
  },
  {
   "cell_type": "code",
   "execution_count": 8,
   "metadata": {
    "collapsed": false
   },
   "outputs": [
    {
     "name": "stdout",
     "output_type": "stream",
     "text": [
      "training data size :  3986\n"
     ]
    }
   ],
   "source": [
    "#data check\n",
    "def one_hot_to_dense(labels):\n",
    "    return np.argmax(labels, axis=1)\n",
    " \n",
    "label_num = 1\n",
    "\n",
    "#temp = one_hot_to_dense(np.array(loc_label_train))\n",
    "#temp_test = one_hot_to_dense(np.array(loc_label_test))\n",
    "idxs = np.where(label_train[:]==label_num)[0].tolist()\n",
    "#idxs_test = np.where(temp_test==label_num)[0].tolist()\n",
    "n_data = len(idxs)\n",
    "#n_data_test = len(idxs_test)\n",
    "print \"training data size : \", n_data\n",
    "#print \"test data size : \", n_data_test"
   ]
  },
  {
   "cell_type": "code",
   "execution_count": 9,
   "metadata": {
    "collapsed": false
   },
   "outputs": [
    {
     "name": "stdout",
     "output_type": "stream",
     "text": [
      "(32, 32, 3)\n",
      "9\n"
     ]
    },
    {
     "data": {
      "image/png": "[encoded data removed]",
      "text/plain": [
       "<matplotlib.figure.Figure at 0x7f3b5c73c310>"
      ]
     },
     "metadata": {},
     "output_type": "display_data"
    }
   ],
   "source": [
    "@interact(idx=(0, n_data-1))\n",
    "def viz_data(idx):\n",
    "    data = img_train[idxs[idx]]\n",
    "    viz_image(data, 1, 'training data')\n",
    "    print label_train[label_num]"
   ]
  },
  {
   "cell_type": "code",
   "execution_count": null,
   "metadata": {
    "collapsed": true
   },
   "outputs": [],
   "source": []
  }
 ],
 "metadata": {
  "kernelspec": {
   "display_name": "Python 2",
   "language": "python",
   "name": "python2"
  },
  "language_info": {
   "codemirror_mode": {
    "name": "ipython",
    "version": 2
   },
   "file_extension": ".py",
   "mimetype": "text/x-python",
   "name": "python",
   "nbconvert_exporter": "python",
   "pygments_lexer": "ipython2",
   "version": "2.7.6"
  }
 },
 "nbformat": 4,
 "nbformat_minor": 0
}
