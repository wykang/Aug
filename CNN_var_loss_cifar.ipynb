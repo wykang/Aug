{
 "cells": [
  {
   "cell_type": "code",
   "execution_count": 1,
   "metadata": {
    "collapsed": true,
    "scrolled": true
   },
   "outputs": [],
   "source": [
    "%matplotlib inline\n",
    "import sys \n",
    "import numpy as np\n",
    "import h5py \n",
    "import matplotlib.pyplot as plt\n",
    "import time\n",
    "import datetime\n",
    "import os\n",
    "import tensorflow as tf\n",
    "from tensorflow.python import control_flow_ops\n",
    "import math"
   ]
  },
  {
   "cell_type": "code",
   "execution_count": 2,
   "metadata": {
    "collapsed": true,
    "scrolled": true
   },
   "outputs": [],
   "source": [
    "sess = tf.Session(config=tf.ConfigProto(gpu_options=tf.GPUOptions(allow_growth=True)))"
   ]
  },
  {
   "cell_type": "code",
   "execution_count": 3,
   "metadata": {
    "collapsed": true,
    "scrolled": true
   },
   "outputs": [],
   "source": [
    "'''Convert class labels from scalars to one-hot vectors.'''\n",
    "def dense_to_one_hot(labels_dense, num_classes=10):\n",
    "    num_labels = labels_dense.shape[0]\n",
    "    index_offset = np.arange(num_labels) * num_classes\n",
    "    labels_one_hot = np.zeros((num_labels, num_classes), dtype=np.float32)\n",
    "    labels_one_hot.flat[index_offset + labels_dense.ravel()] = 1\n",
    "    return labels_one_hot"
   ]
  },
  {
   "cell_type": "code",
   "execution_count": 130,
   "metadata": {
    "collapsed": false
   },
   "outputs": [
    {
     "name": "stdout",
     "output_type": "stream",
     "text": [
      "datasets: [u't_test', u't_train', u't_valid', u'x_test', u'x_train', u'x_valid']\n"
     ]
    }
   ],
   "source": [
    "## for minist\n",
    "hf = h5py.File('../data/mnist.hdf5','r')\n",
    "print('datasets: {}'.format(hf.keys()))\n",
    "\n",
    "n_class     = 10\n",
    "width_size  = 28\n",
    "height_size = 28\n",
    "area_size   = width_size * height_size\n",
    "\n",
    "trainingSize = hf['x_train'].shape[0]\n",
    "validationSize = hf['x_valid'].shape[0]\n",
    "testSize = hf['x_test'].shape[0]\n",
    "\n",
    "batch_size = 200"
   ]
  },
  {
   "cell_type": "code",
   "execution_count": 4,
   "metadata": {
    "collapsed": false,
    "scrolled": true
   },
   "outputs": [
    {
     "name": "stdout",
     "output_type": "stream",
     "text": [
      "datasets: [u'test_set_x', u'test_set_y', u'train_set_x', u'train_set_y', u'valid_set_x', u'valid_set_y']\n",
      "40000 10000 10000\n"
     ]
    }
   ],
   "source": [
    "hf = h5py.File('../data/cifar-10.hdf5','r')\n",
    "print('datasets: {}'.format(hf.keys()))\n",
    "\n",
    "#x_train = theano.shared(hf['x_train'][()])\n",
    "#t_train = theano.shared(dense_to_one_hot(np.array(hf['t_train'][()])))\n",
    "#x_valid = theano.shared(hf['x_valid'][()])\n",
    "#t_valid = theano.shared(dense_to_one_hot(np.array(hf['t_valid'][()])))\n",
    "#x_test  = theano.shared(hf['x_test'][()])\n",
    "#t_test  = theano.shared(dense_to_one_hot(np.array(hf['t_test'][()])))\n",
    "\n",
    "n_class     = 10\n",
    "width_size  = 32\n",
    "height_size = 32\n",
    "area_size   = width_size * height_size * 3\n",
    "trainingSize = hf['train_set_x'].shape[0]\n",
    "validationSize = hf['valid_set_x'].shape[0]\n",
    "testSize = hf['test_set_x'].shape[0]\n",
    "\n",
    "print trainingSize, validationSize, testSize\n",
    "\n",
    "batch_size = 200\n",
    "C_val = 0.001"
   ]
  },
  {
   "cell_type": "code",
   "execution_count": 131,
   "metadata": {
    "collapsed": false,
    "scrolled": true
   },
   "outputs": [
    {
     "name": "stdout",
     "output_type": "stream",
     "text": [
      "[size of each set]\n"
     ]
    },
    {
     "ename": "KeyError",
     "evalue": "\"Unable to open object (Object 'train_set_x' doesn't exist)\"",
     "output_type": "error",
     "traceback": [
      "\u001b[1;31m---------------------------------------------------------------------------\u001b[0m",
      "\u001b[1;31mKeyError\u001b[0m                                  Traceback (most recent call last)",
      "\u001b[1;32m<ipython-input-131-19a1858ceea9>\u001b[0m in \u001b[0;36m<module>\u001b[1;34m()\u001b[0m\n\u001b[0;32m     16\u001b[0m \u001b[1;33m\u001b[0m\u001b[0m\n\u001b[0;32m     17\u001b[0m \u001b[1;32mprint\u001b[0m \u001b[1;34m'[size of each set]'\u001b[0m\u001b[1;33m\u001b[0m\u001b[0m\n\u001b[1;32m---> 18\u001b[1;33m \u001b[1;32mprint\u001b[0m \u001b[1;33m(\u001b[0m\u001b[1;34m'training_set : %d, valid_set : %d, test_set : %d'\u001b[0m \u001b[1;33m%\u001b[0m\u001b[1;33m(\u001b[0m\u001b[0mhf\u001b[0m\u001b[1;33m[\u001b[0m\u001b[1;34m'train_set_x'\u001b[0m\u001b[1;33m]\u001b[0m\u001b[1;33m.\u001b[0m\u001b[0mshape\u001b[0m\u001b[1;33m[\u001b[0m\u001b[1;36m0\u001b[0m\u001b[1;33m]\u001b[0m\u001b[1;33m,\u001b[0m \u001b[0mhf\u001b[0m\u001b[1;33m[\u001b[0m\u001b[1;34m'valid_set_x'\u001b[0m\u001b[1;33m]\u001b[0m\u001b[1;33m.\u001b[0m\u001b[0mshape\u001b[0m\u001b[1;33m[\u001b[0m\u001b[1;36m0\u001b[0m\u001b[1;33m]\u001b[0m\u001b[1;33m,\u001b[0m \u001b[0mhf\u001b[0m\u001b[1;33m[\u001b[0m\u001b[1;34m'test_set_x'\u001b[0m\u001b[1;33m]\u001b[0m\u001b[1;33m.\u001b[0m\u001b[0mshape\u001b[0m\u001b[1;33m[\u001b[0m\u001b[1;36m0\u001b[0m\u001b[1;33m]\u001b[0m\u001b[1;33m)\u001b[0m\u001b[1;33m)\u001b[0m\u001b[1;33m\u001b[0m\u001b[0m\n\u001b[0m\u001b[0;32m     19\u001b[0m \u001b[1;32mprint\u001b[0m \u001b[1;34m'[size of each batch]'\u001b[0m\u001b[1;33m\u001b[0m\u001b[0m\n\u001b[0;32m     20\u001b[0m \u001b[1;32mprint\u001b[0m \u001b[1;33m(\u001b[0m\u001b[1;34m'training_set : %d, valid_set : %d, test_set : %d'\u001b[0m \u001b[1;33m%\u001b[0m\u001b[1;33m(\u001b[0m\u001b[0mn_train_batches\u001b[0m\u001b[1;33m,\u001b[0m \u001b[0mn_valid_batches\u001b[0m\u001b[1;33m,\u001b[0m \u001b[0mn_test_batches\u001b[0m\u001b[1;33m)\u001b[0m\u001b[1;33m)\u001b[0m\u001b[1;33m\u001b[0m\u001b[0m\n",
      "\u001b[1;32m/usr/lib/python2.7/dist-packages/h5py/_objects.pyx\u001b[0m in \u001b[0;36mh5py._objects.with_phil.wrapper (/tmp/pip_build_root/h5py/h5py/_objects.c:2691)\u001b[1;34m()\u001b[0m\n\u001b[0;32m     52\u001b[0m     \u001b[0mlock\u001b[0m \u001b[1;32mis\u001b[0m \u001b[0mneeded\u001b[0m\u001b[1;33m,\u001b[0m \u001b[0mit\u001b[0m \u001b[0macquires\u001b[0m \u001b[0mthe\u001b[0m \u001b[0mlock\u001b[0m \u001b[1;32mand\u001b[0m \u001b[0mnotifies\u001b[0m \u001b[0mthe\u001b[0m \u001b[0mfirst\u001b[0m \u001b[0mthread\u001b[0m\u001b[1;33m\u001b[0m\u001b[0m\n\u001b[0;32m     53\u001b[0m     \u001b[0mto\u001b[0m \u001b[0mrelease\u001b[0m \u001b[0mit\u001b[0m \u001b[0mwhen\u001b[0m \u001b[0mit\u001b[0m\u001b[0;31m'\u001b[0m\u001b[0ms\u001b[0m \u001b[0mdone\u001b[0m\u001b[1;33m.\u001b[0m  \u001b[0mThis\u001b[0m \u001b[1;32mis\u001b[0m \u001b[0mall\u001b[0m \u001b[0mmade\u001b[0m \u001b[0mpossible\u001b[0m \u001b[0mby\u001b[0m \u001b[0mthe\u001b[0m\u001b[1;33m\u001b[0m\u001b[0m\n\u001b[1;32m---> 54\u001b[1;33m     \u001b[0mwonderful\u001b[0m \u001b[0mGIL\u001b[0m\u001b[1;33m.\u001b[0m\u001b[1;33m\u001b[0m\u001b[0m\n\u001b[0m\u001b[0;32m     55\u001b[0m     \"\"\"\n\u001b[0;32m     56\u001b[0m     \u001b[0mcdef\u001b[0m \u001b[0mpythread\u001b[0m\u001b[1;33m.\u001b[0m\u001b[0mPyThread_type_lock\u001b[0m \u001b[0m_real_lock\u001b[0m\u001b[1;33m\u001b[0m\u001b[0m\n",
      "\u001b[1;32m/usr/lib/python2.7/dist-packages/h5py/_objects.pyx\u001b[0m in \u001b[0;36mh5py._objects.with_phil.wrapper (/tmp/pip_build_root/h5py/h5py/_objects.c:2649)\u001b[1;34m()\u001b[0m\n\u001b[0;32m     53\u001b[0m     \u001b[0mto\u001b[0m \u001b[0mrelease\u001b[0m \u001b[0mit\u001b[0m \u001b[0mwhen\u001b[0m \u001b[0mit\u001b[0m\u001b[0;31m'\u001b[0m\u001b[0ms\u001b[0m \u001b[0mdone\u001b[0m\u001b[1;33m.\u001b[0m  \u001b[0mThis\u001b[0m \u001b[1;32mis\u001b[0m \u001b[0mall\u001b[0m \u001b[0mmade\u001b[0m \u001b[0mpossible\u001b[0m \u001b[0mby\u001b[0m \u001b[0mthe\u001b[0m\u001b[1;33m\u001b[0m\u001b[0m\n\u001b[0;32m     54\u001b[0m     \u001b[0mwonderful\u001b[0m \u001b[0mGIL\u001b[0m\u001b[1;33m.\u001b[0m\u001b[1;33m\u001b[0m\u001b[0m\n\u001b[1;32m---> 55\u001b[1;33m     \"\"\"\n\u001b[0m\u001b[0;32m     56\u001b[0m     \u001b[0mcdef\u001b[0m \u001b[0mpythread\u001b[0m\u001b[1;33m.\u001b[0m\u001b[0mPyThread_type_lock\u001b[0m \u001b[0m_real_lock\u001b[0m\u001b[1;33m\u001b[0m\u001b[0m\n\u001b[0;32m     57\u001b[0m     \u001b[0mcdef\u001b[0m \u001b[0mlong\u001b[0m \u001b[0m_owner\u001b[0m            \u001b[1;31m# ID of thread owning the lock\u001b[0m\u001b[1;33m\u001b[0m\u001b[0m\n",
      "\u001b[1;32m/usr/local/lib/python2.7/dist-packages/h5py/_hl/group.pyc\u001b[0m in \u001b[0;36m__getitem__\u001b[1;34m(self, name)\u001b[0m\n\u001b[0;32m    164\u001b[0m                 \u001b[1;32mraise\u001b[0m \u001b[0mValueError\u001b[0m\u001b[1;33m(\u001b[0m\u001b[1;34m\"Invalid HDF5 object reference\"\u001b[0m\u001b[1;33m)\u001b[0m\u001b[1;33m\u001b[0m\u001b[0m\n\u001b[0;32m    165\u001b[0m         \u001b[1;32melse\u001b[0m\u001b[1;33m:\u001b[0m\u001b[1;33m\u001b[0m\u001b[0m\n\u001b[1;32m--> 166\u001b[1;33m             \u001b[0moid\u001b[0m \u001b[1;33m=\u001b[0m \u001b[0mh5o\u001b[0m\u001b[1;33m.\u001b[0m\u001b[0mopen\u001b[0m\u001b[1;33m(\u001b[0m\u001b[0mself\u001b[0m\u001b[1;33m.\u001b[0m\u001b[0mid\u001b[0m\u001b[1;33m,\u001b[0m \u001b[0mself\u001b[0m\u001b[1;33m.\u001b[0m\u001b[0m_e\u001b[0m\u001b[1;33m(\u001b[0m\u001b[0mname\u001b[0m\u001b[1;33m)\u001b[0m\u001b[1;33m,\u001b[0m \u001b[0mlapl\u001b[0m\u001b[1;33m=\u001b[0m\u001b[0mself\u001b[0m\u001b[1;33m.\u001b[0m\u001b[0m_lapl\u001b[0m\u001b[1;33m)\u001b[0m\u001b[1;33m\u001b[0m\u001b[0m\n\u001b[0m\u001b[0;32m    167\u001b[0m \u001b[1;33m\u001b[0m\u001b[0m\n\u001b[0;32m    168\u001b[0m         \u001b[0motype\u001b[0m \u001b[1;33m=\u001b[0m \u001b[0mh5i\u001b[0m\u001b[1;33m.\u001b[0m\u001b[0mget_type\u001b[0m\u001b[1;33m(\u001b[0m\u001b[0moid\u001b[0m\u001b[1;33m)\u001b[0m\u001b[1;33m\u001b[0m\u001b[0m\n",
      "\u001b[1;32m/usr/lib/python2.7/dist-packages/h5py/_objects.pyx\u001b[0m in \u001b[0;36mh5py._objects.with_phil.wrapper (/tmp/pip_build_root/h5py/h5py/_objects.c:2691)\u001b[1;34m()\u001b[0m\n\u001b[0;32m     52\u001b[0m     \u001b[0mlock\u001b[0m \u001b[1;32mis\u001b[0m \u001b[0mneeded\u001b[0m\u001b[1;33m,\u001b[0m \u001b[0mit\u001b[0m \u001b[0macquires\u001b[0m \u001b[0mthe\u001b[0m \u001b[0mlock\u001b[0m \u001b[1;32mand\u001b[0m \u001b[0mnotifies\u001b[0m \u001b[0mthe\u001b[0m \u001b[0mfirst\u001b[0m \u001b[0mthread\u001b[0m\u001b[1;33m\u001b[0m\u001b[0m\n\u001b[0;32m     53\u001b[0m     \u001b[0mto\u001b[0m \u001b[0mrelease\u001b[0m \u001b[0mit\u001b[0m \u001b[0mwhen\u001b[0m \u001b[0mit\u001b[0m\u001b[0;31m'\u001b[0m\u001b[0ms\u001b[0m \u001b[0mdone\u001b[0m\u001b[1;33m.\u001b[0m  \u001b[0mThis\u001b[0m \u001b[1;32mis\u001b[0m \u001b[0mall\u001b[0m \u001b[0mmade\u001b[0m \u001b[0mpossible\u001b[0m \u001b[0mby\u001b[0m \u001b[0mthe\u001b[0m\u001b[1;33m\u001b[0m\u001b[0m\n\u001b[1;32m---> 54\u001b[1;33m     \u001b[0mwonderful\u001b[0m \u001b[0mGIL\u001b[0m\u001b[1;33m.\u001b[0m\u001b[1;33m\u001b[0m\u001b[0m\n\u001b[0m\u001b[0;32m     55\u001b[0m     \"\"\"\n\u001b[0;32m     56\u001b[0m     \u001b[0mcdef\u001b[0m \u001b[0mpythread\u001b[0m\u001b[1;33m.\u001b[0m\u001b[0mPyThread_type_lock\u001b[0m \u001b[0m_real_lock\u001b[0m\u001b[1;33m\u001b[0m\u001b[0m\n",
      "\u001b[1;32m/usr/lib/python2.7/dist-packages/h5py/_objects.pyx\u001b[0m in \u001b[0;36mh5py._objects.with_phil.wrapper (/tmp/pip_build_root/h5py/h5py/_objects.c:2649)\u001b[1;34m()\u001b[0m\n\u001b[0;32m     53\u001b[0m     \u001b[0mto\u001b[0m \u001b[0mrelease\u001b[0m \u001b[0mit\u001b[0m \u001b[0mwhen\u001b[0m \u001b[0mit\u001b[0m\u001b[0;31m'\u001b[0m\u001b[0ms\u001b[0m \u001b[0mdone\u001b[0m\u001b[1;33m.\u001b[0m  \u001b[0mThis\u001b[0m \u001b[1;32mis\u001b[0m \u001b[0mall\u001b[0m \u001b[0mmade\u001b[0m \u001b[0mpossible\u001b[0m \u001b[0mby\u001b[0m \u001b[0mthe\u001b[0m\u001b[1;33m\u001b[0m\u001b[0m\n\u001b[0;32m     54\u001b[0m     \u001b[0mwonderful\u001b[0m \u001b[0mGIL\u001b[0m\u001b[1;33m.\u001b[0m\u001b[1;33m\u001b[0m\u001b[0m\n\u001b[1;32m---> 55\u001b[1;33m     \"\"\"\n\u001b[0m\u001b[0;32m     56\u001b[0m     \u001b[0mcdef\u001b[0m \u001b[0mpythread\u001b[0m\u001b[1;33m.\u001b[0m\u001b[0mPyThread_type_lock\u001b[0m \u001b[0m_real_lock\u001b[0m\u001b[1;33m\u001b[0m\u001b[0m\n\u001b[0;32m     57\u001b[0m     \u001b[0mcdef\u001b[0m \u001b[0mlong\u001b[0m \u001b[0m_owner\u001b[0m            \u001b[1;31m# ID of thread owning the lock\u001b[0m\u001b[1;33m\u001b[0m\u001b[0m\n",
      "\u001b[1;32m/usr/lib/python2.7/dist-packages/h5py/h5o.pyx\u001b[0m in \u001b[0;36mh5py.h5o.open (/tmp/pip_build_root/h5py/h5py/h5o.c:3577)\u001b[1;34m()\u001b[0m\n\u001b[0;32m    188\u001b[0m     char* dst_name, PropID copypl=None, PropID lcpl=None):\n\u001b[0;32m    189\u001b[0m     \"\"\"(ObjectID src_loc, STRING src_name, GroupID dst_loc, STRING dst_name,\n\u001b[1;32m--> 190\u001b[1;33m     PropID copypl=None, PropID lcpl=None)\n\u001b[0m\u001b[0;32m    191\u001b[0m \u001b[1;33m\u001b[0m\u001b[0m\n\u001b[0;32m    192\u001b[0m     \u001b[0mCopy\u001b[0m \u001b[0ma\u001b[0m \u001b[0mgroup\u001b[0m\u001b[1;33m,\u001b[0m \u001b[0mdataset\u001b[0m \u001b[1;32mor\u001b[0m \u001b[0mnamed\u001b[0m \u001b[0mdatatype\u001b[0m \u001b[1;32mfrom\u001b[0m \u001b[0mone\u001b[0m \u001b[0mlocation\u001b[0m \u001b[0mto\u001b[0m \u001b[0manother\u001b[0m\u001b[1;33m.\u001b[0m  \u001b[0mThe\u001b[0m\u001b[1;33m\u001b[0m\u001b[0m\n",
      "\u001b[1;31mKeyError\u001b[0m: \"Unable to open object (Object 'train_set_x' doesn't exist)\""
     ]
    }
   ],
   "source": [
    "\"\"\"\n",
    "datasets = load_data(dataset)\n",
    "\n",
    "train_set_x, train_set_y = datasets[0]\n",
    "valid_set_x, valid_set_y = datasets[1]\n",
    "test_set_x, test_set_y = datasets[2]\n",
    "\"\"\"\n",
    "# compute number of minibatches for training, validation and testing\n",
    "batch_size = 200\n",
    "n_train_batches = trainingSize\n",
    "n_valid_batches = validationSize\n",
    "n_test_batches = testSize\n",
    "n_train_batches /= batch_size\n",
    "n_valid_batches /= batch_size\n",
    "n_test_batches /= batch_size\n",
    "\n",
    "print '[size of each set]'\n",
    "print ('training_set : %d, valid_set : %d, test_set : %d' %(hf['train_set_x'].shape[0], hf['valid_set_x'].shape[0], hf['test_set_x'].shape[0]))\n",
    "print '[size of each batch]'\n",
    "print ('training_set : %d, valid_set : %d, test_set : %d' %(n_train_batches, n_valid_batches, n_test_batches))"
   ]
  },
  {
   "cell_type": "code",
   "execution_count": null,
   "metadata": {
    "collapsed": true
   },
   "outputs": [],
   "source": [
    "conv1_n_param = [3, 3, 3, 32]\n",
    "poo11_n_param = (2, 2)\n",
    "conv2_n_param = [3, 3, 32, 64]\n",
    "pool2_n_param = (2, 2)\n",
    "\n",
    "conv3_n_param = [5, 5, 64, 128]\n",
    "pool3_n_param = (2, 2)\n",
    "conv4_n_param = [3, 3, 128, 64]\n",
    "pool4_n_param = (4, 4)\n",
    "\n",
    "fc1_n_param = [1 * 1 * 64, 2]\n",
    "fc2_n_param = [2, n_class]"
   ]
  },
  {
   "cell_type": "code",
   "execution_count": 6,
   "metadata": {
    "collapsed": true,
    "scrolled": true
   },
   "outputs": [],
   "source": [
    "sess = tf.InteractiveSession()"
   ]
  },
  {
   "cell_type": "code",
   "execution_count": 7,
   "metadata": {
    "collapsed": true,
    "scrolled": true
   },
   "outputs": [],
   "source": [
    "def calc_moments(x, mode):\n",
    "    batch_mean, batch_var = tf.nn.moments(x, [0], name='moments')\n",
    "    ema = tf.train.ExponentialMovingAverage(decay=0.9)\n",
    "    ema_apply_op = ema.apply([batch_mean, batch_var])\n",
    "    ema_mean, ema_var = ema.average(batch_mean), ema.average(batch_var)\n",
    "    def mean_var_with_update():\n",
    "                with tf.control_dependencies([ema_apply_op]):\n",
    "                    return tf.identity(batch_mean), tf.identity(batch_var)\n",
    "    mean, var = control_flow_ops.cond(mode,\n",
    "        mean_var_with_update,\n",
    "        lambda: (ema_mean, ema_var))\n",
    "    return mean, var"
   ]
  },
  {
   "cell_type": "code",
   "execution_count": 8,
   "metadata": {
    "collapsed": true,
    "scrolled": true
   },
   "outputs": [],
   "source": [
    "def var_loss_fc(features, labels, idx, mode):\n",
    "    locs = tf.where(tf.equal(labels, idx))\n",
    "    batch_mean, batch_var = tf.nn.moments(tf.gather(features, locs), [0], name='moments_fc')\n",
    "    ema = tf.train.ExponentialMovingAverage(decay=0.9)\n",
    "    ema_apply_op = ema.apply([batch_mean, batch_var])\n",
    "    ema_mean, ema_var = ema.average(batch_mean), ema.average(batch_var)\n",
    "    def mean_var_with_update():\n",
    "                with tf.control_dependencies([ema_apply_op]):\n",
    "                    return tf.identity(batch_mean), tf.identity(batch_var)\n",
    "    mean, var = control_flow_ops.cond(mode,\n",
    "        mean_var_with_update,\n",
    "        lambda: (ema_mean, ema_var))\n",
    "    return mean, var\n",
    "    #intra_loss = tf.reduce_sum(intra_var)"
   ]
  },
  {
   "cell_type": "code",
   "execution_count": 9,
   "metadata": {
    "collapsed": true,
    "scrolled": true
   },
   "outputs": [],
   "source": [
    "def var_loss_cnn(features, labels, idx):\n",
    "    locs = tf.where(tf.equal(labels, idx))\n",
    "    intra_mean, intra_var = tf.nn.moments(tf.gather(features, locs), [0,1], name='moments_cnn')\n",
    "    #intra_loss = tf.reduce_sum(intra_var)"
   ]
  },
  {
   "cell_type": "code",
   "execution_count": 80,
   "metadata": {
    "collapsed": true,
    "scrolled": true
   },
   "outputs": [],
   "source": [
    "def clac_layerwise_loss(moments, size):\n",
    "    var_list = []\n",
    "    for i in range (0, n_class):\n",
    "        var_list.append(moments[i][1])\n",
    "    packed_intra = tf.pack(var_list)  \n",
    "    packed_intra = tf.reshape(packed_intra, [n_class, size])\n",
    "    #print packed_intra.get_shape()\n",
    "    intra_var_loss = tf.reduce_sum(packed_intra)\n",
    "    #print hid_layer_1_losses.get_shape()\n",
    "    #print moments[0][0]\n",
    "    #print moments[0][0].get_shape()\n",
    "    mean_list = []\n",
    "    for i in range (0, n_class):\n",
    "        mean_list.append(moments[i][0])\n",
    "    packed = tf.pack(mean_list)\n",
    "    packed = tf.reshape(packed, [n_class, size])\n",
    "    packed_mean, packed_var = tf.nn.moments(packed, [0], name = 'moments_fc_total')\n",
    "    #print packed_var.get_shape()\n",
    "    inter_var_loss = tf.reduce_sum(packed_var)\n",
    "    layer_loss = intra_var_loss / inter_var_loss\n",
    "    return layer_loss"
   ]
  },
  {
   "cell_type": "code",
   "execution_count": 128,
   "metadata": {
    "collapsed": false,
    "scrolled": true
   },
   "outputs": [],
   "source": [
    "x = tf.placeholder(\"float\", shape=[None, 32, 32, 3])\n",
    "y_ = tf.placeholder(\"float\", shape=[None, n_class])\n",
    "y_scalar = tf.placeholder(\"float\", shape=[None])\n",
    "dummy_bool = tf.placeholder(tf.bool, name='phase_train')\n",
    "\n",
    "def weight_variable(shape):\n",
    "    initial = tf.truncated_normal(shape, stddev=0.02)\n",
    "    return tf.Variable(initial)\n",
    "def bias_variable(shape):\n",
    "    initial = tf.constant(0.02, shape=shape)\n",
    "    return tf.Variable(initial)\n",
    "\n",
    "def conv2d(x, W, stride):\n",
    "    return tf.nn.conv2d(x, W, strides=[1, stride, stride, 1], padding='SAME')\n",
    "\n",
    "def max_pool_2x2(x, stride):\n",
    "    return tf.nn.max_pool(x, ksize=[1, 2, 2, 1],\n",
    "                        strides=[1, stride, stride, 1], padding='SAME')\n",
    "def max_pool_4x4(x, stride):\n",
    "    return tf.nn.max_pool(x, ksize=[1, 4, 4, 1],\n",
    "                        strides=[1, stride, stride, 1], padding='VALID')\n",
    "\n",
    "#x_ = tf.reshape(x, [-1, 32, 32, 1])\n",
    "W_conv1 = weight_variable(conv1_n_param)\n",
    "b_conv1 = bias_variable([conv1_n_param[-1]])\n",
    "feature_ly1 = conv2d(x, W_conv1, 1) + b_conv1\n",
    "moments_cv1 = [var_loss_fc(feature_ly1, y_scalar, idx, dummy_bool) for idx in range(0, n_class)]\n",
    "cv1_loss = clac_layerwise_loss(moments_cv1, conv1_n_param[-1] *32 * 32)\n",
    "h_conv1 = tf.nn.relu(feature_ly1)\n",
    "h_pool1 = max_pool_2x2(h_conv1, 2)\n",
    "\n",
    "W_conv2 = weight_variable(conv2_n_param)\n",
    "b_conv2 = bias_variable([conv2_n_param[-1]])\n",
    "feature_ly2 = conv2d(h_pool1, W_conv2, 1) + b_conv2\n",
    "moments_cv2 = [var_loss_fc(feature_ly2, y_scalar, idx, dummy_bool) for idx in range(0, n_class)]\n",
    "cv2_loss = clac_layerwise_loss(moments_cv2, conv2_n_param[-1] *16 * 16)\n",
    "h_conv2 = tf.nn.relu(feature_ly2)\n",
    "h_pool2 = max_pool_2x2(h_conv2, 2)\n",
    "\n",
    "W_conv3 = weight_variable(conv3_n_param)\n",
    "b_conv3 = bias_variable([conv3_n_param[-1]])\n",
    "feature_ly3 = conv2d(h_pool2, W_conv3, 1) + b_conv3\n",
    "moments_cv3 = [var_loss_fc(feature_ly3, y_scalar, idx, dummy_bool) for idx in range(0, n_class)]\n",
    "cv3_loss = clac_layerwise_loss(moments_cv3, conv3_n_param[-1] *8 * 8)\n",
    "h_conv3 = tf.nn.relu(feature_ly3)\n",
    "h_pool3 = max_pool_2x2(h_conv3, 2)\n",
    "\n",
    "W_conv4 = weight_variable(conv4_n_param)\n",
    "b_conv4 = bias_variable([conv4_n_param[-1]])\n",
    "feature_ly4 = conv2d(h_pool3, W_conv4, 1) + b_conv4\n",
    "h_conv4 = tf.nn.relu(feature_ly4)\n",
    "moments_cv4 = [var_loss_fc(feature_ly4, y_scalar, idx, dummy_bool) for idx in range(0, n_class)]\n",
    "cv4_loss = clac_layerwise_loss(moments_cv4, conv4_n_param[-1] * 4 * 4)\n",
    "h_pool4 = max_pool_4x4(h_conv4, 1)\n",
    "#print h_pool4.get_shape()[3]\n",
    "\n",
    "h_pool4_flat = tf.reshape(h_pool4, [-1, fc1_n_param[0]])\n",
    "\n",
    "W_fc1 = weight_variable(fc1_n_param)\n",
    "b_fc1 = bias_variable([fc1_n_param[-1]])\n",
    "w_sum_fc1 = tf.matmul(h_pool4_flat, W_fc1) + b_fc1\n",
    "moments_fc1 = [var_loss_fc(w_sum_fc1, y_scalar, idx, dummy_bool) for idx in range(0, n_class)]\n",
    "fc1_loss = clac_layerwise_loss(moments_fc1, fc1_n_param[-1])\n",
    "h_fc1 = tf.nn.relu(w_sum_fc1)\n",
    "locs = [tf.where(tf.equal(y_scalar, idx)) for idx in range(0, n_class)]\n",
    "\n",
    "W_fc2 = weight_variable(fc2_n_param)\n",
    "b_fc2 = bias_variable([fc2_n_param[-1]])\n",
    "w_sum_fc2 = tf.matmul(h_fc1, W_fc2) + b_fc2\n",
    "moments_fc2 = [var_loss_fc(w_sum_fc2, y_scalar, idx, dummy_bool) for idx in range(0, n_class)]\n",
    "fc2_loss = clac_layerwise_loss(moments_fc2, fc2_n_param[-1])\n",
    "h_fc2 = tf.nn.relu(w_sum_fc2)\n",
    "output = tf.nn.softmax(h_fc2)\n",
    "'''\n",
    "w_sum_fc1 = tf.matmul(flat_x, W_fc1) + b_fc1\n",
    "moments_fc1 = [var_loss_fc(w_sum_fc1, y_scalar, idx, dummy_bool) for idx in range(0, n_class)]\n",
    "fc1_loss = clac_layerwise_loss(moments_fc1, fc1_n_param[-1])\n",
    "hid_layer_1 = tf.nn.relu(w_sum_fc1)\n",
    "\n",
    "\n",
    "#moment_mean, moment_var = tf.nn.moments(mean_list, [0], name='moments_fc_total')\n",
    "#print moment_mean.get_shape()\n",
    "\n",
    "W_fc2 = weight_variable(fc2_n_param)\n",
    "b_fc2 = bias_variable([fc2_n_param[-1]])\n",
    "w_sum_fc2 = tf.matmul(hid_layer_1, W_fc2) + b_fc2\n",
    "moments_fc2 = [var_loss_fc(w_sum_fc2, y_scalar, idx, dummy_bool) for idx in range(0, n_class)]\n",
    "fc2_loss = clac_layerwise_loss(moments_fc2, fc2_n_param[-1])\n",
    "hid_layer_2 = tf.nn.softmax(w_sum_fc2)\n",
    "\n",
    "\n",
    "W_fc3 = weight_variable(fc3_n_param)\n",
    "b_fc3 = bias_variable([fc3_n_param[-1]])\n",
    "hid_layer_3 = tf.nn.softmax(tf.matmul(hid_layer_2, W_fc3) + b_fc3)\n",
    "'''\n",
    "cross_entropy = -tf.reduce_sum(y_*tf.log(tf.clip_by_value(output, 1e-10, 1.0))) #loss는 최종 loss + 각 레이어의 var정보\n",
    "loss = cross_entropy #+ cv4_loss ##+ fc2_loss + fc1_loss + cv2_loss + cv1_loss + cv3_loss + cv4_loss\n",
    "train_step = tf.train.AdamOptimizer(1e-4).minimize( cross_entropy)#\n",
    "#print y_*tf.log(tf.clip_by_value(hid_layer_3,1e-10,1.0)).get_shape()\n",
    "correct_prediction = tf.equal(tf.argmax(output,1), tf.argmax(y_,1))\n",
    "accuracy = tf.reduce_mean(tf.cast(correct_prediction, \"float\"))\n",
    "\n",
    "\n",
    "#batch_mean, batch_var = tf.reduce_mean(tf.gather(x, locs), 0)\n",
    "#batch_mean, batch_var = tf.nn.moments(tf.gather(x, locs), [0], name='moments')\n",
    "\n",
    "sess.run(tf.initialize_all_variables())\n"
   ]
  },
  {
   "cell_type": "code",
   "execution_count": 12,
   "metadata": {
    "collapsed": false
   },
   "outputs": [],
   "source": [
    "start_Idx = 0\n",
    "end_Idx = 300\n",
    "\n",
    "x_train = np.array(hf['train_set_x'][start_Idx:end_Idx])\n",
    "y_train = dense_to_one_hot(np.array(hf['train_set_y'][start_Idx:end_Idx]))\n",
    "y_train_s = np.array(hf['train_set_y'][start_Idx:end_Idx])\n",
    "#x_train = np.array(hf['x_train'][start_Idx:end_Idx]).reshape(300,28,28,1)\n",
    "#y_train = dense_to_one_hot(np.array(hf['t_train'][start_Idx:end_Idx]))\n",
    "#y_train_s = np.array(hf['t_train'][start_Idx:end_Idx])"
   ]
  },
  {
   "cell_type": "code",
   "execution_count": 15,
   "metadata": {
    "collapsed": true
   },
   "outputs": [],
   "source": [
    "import matplotlib.cm as cm"
   ]
  },
  {
   "cell_type": "code",
   "execution_count": 29,
   "metadata": {
    "collapsed": true
   },
   "outputs": [],
   "source": [
    "locIdx = []\n",
    "for idx in range(0, n_class):\n",
    "    locIdx.append(locs[idx].eval(feed_dict={x: x_train, y_: y_train, y_scalar: y_train_s, dummy_bool: False}))"
   ]
  },
  {
   "cell_type": "code",
   "execution_count": 127,
   "metadata": {
    "collapsed": false
   },
   "outputs": [
    {
     "name": "stdout",
     "output_type": "stream",
     "text": [
      "4.01781\n",
      "0.223333\n"
     ]
    },
    {
     "data": {
      "image/png": "[encoded data removed]",
      "text/plain": [
       "<matplotlib.figure.Figure at 0x7fefa3f97610>"
      ]
     },
     "metadata": {},
     "output_type": "display_data"
    }
   ],
   "source": [
    "for idx in range(0, 300):\n",
    "    train_step.run(feed_dict={x: x_train, y_: y_train, y_scalar: y_train_s, dummy_bool: False})\n",
    "\n",
    "#print W_fc1.eval()\n",
    "print fc1_loss.eval(feed_dict={x: x_train, y_: y_train, y_scalar: y_train_s, dummy_bool: False})\n",
    "print accuracy.eval(feed_dict={x: x_train, y_: y_train, y_scalar: y_train_s, dummy_bool: False})\n",
    "#print moments_fc1[0][1].eval(feed_dict={x: x_train, y_: y_train, y_scalar: y_train_s, dummy_bool: False})\n",
    "\n",
    "##plot\n",
    "\n",
    "res = w_sum_fc1.eval(feed_dict={x: x_train, y_: y_train, y_scalar: y_train_s, dummy_bool: False})\n",
    "\n",
    "colors = cm.rainbow(np.linspace(0, 1, len(locIdx)))\n",
    "plts = []\n",
    "for idx in range(0, n_class):\n",
    "    plts.append(plt.scatter(res[locIdx[idx],0],res[locIdx[idx],1],color=colors[idx]))\n",
    "    \n",
    "plt.legend((plts[0], plts[1], plts[2], plts[3], plts[4], plts[5], plts[6], plts[7], plts[8], plts[9]),\n",
    "       ('0', '1', '2', '3', '4', '5', '6', '7', '8', '9'),\n",
    "       scatterpoints=1,\n",
    "       loc='upper right',\n",
    "       ncol=3,\n",
    "       fontsize=8)\n",
    "plt.show()"
   ]
  },
  {
   "cell_type": "code",
   "execution_count": 13,
   "metadata": {
    "collapsed": true,
    "scrolled": true
   },
   "outputs": [],
   "source": [
    "res_dir = datetime.datetime.now().isoformat() + '_var_loss_CNN_cifar10_color_test_cross_cv4loss'\n",
    "if not os.path.exists(res_dir):\n",
    "    os.makedirs(res_dir)"
   ]
  },
  {
   "cell_type": "code",
   "execution_count": 129,
   "metadata": {
    "collapsed": false,
    "scrolled": true
   },
   "outputs": [
    {
     "ename": "NameError",
     "evalue": "name 'n_train_batches' is not defined",
     "output_type": "error",
     "traceback": [
      "\u001b[1;31m---------------------------------------------------------------------------\u001b[0m",
      "\u001b[1;31mNameError\u001b[0m                                 Traceback (most recent call last)",
      "\u001b[1;32m<ipython-input-129-90b3459acc0f>\u001b[0m in \u001b[0;36m<module>\u001b[1;34m()\u001b[0m\n\u001b[0;32m      7\u001b[0m \u001b[1;33m\u001b[0m\u001b[0m\n\u001b[0;32m      8\u001b[0m \u001b[0mpatience\u001b[0m \u001b[1;33m=\u001b[0m \u001b[1;36m10000\u001b[0m  \u001b[1;31m# look as this many examples regardless\u001b[0m\u001b[1;33m\u001b[0m\u001b[0m\n\u001b[1;32m----> 9\u001b[1;33m \u001b[0mvalidation_frequency\u001b[0m \u001b[1;33m=\u001b[0m \u001b[0mmin\u001b[0m\u001b[1;33m(\u001b[0m\u001b[0mn_train_batches\u001b[0m\u001b[1;33m,\u001b[0m \u001b[0mpatience\u001b[0m \u001b[1;33m/\u001b[0m \u001b[1;36m2\u001b[0m\u001b[1;33m)\u001b[0m\u001b[1;33m\u001b[0m\u001b[0m\n\u001b[0m\u001b[0;32m     10\u001b[0m \u001b[0mepoch_size\u001b[0m \u001b[1;33m=\u001b[0m \u001b[1;36m50\u001b[0m\u001b[1;33m\u001b[0m\u001b[0m\n\u001b[0;32m     11\u001b[0m \u001b[0mcol_count\u001b[0m \u001b[1;33m=\u001b[0m \u001b[0marea_size\u001b[0m\u001b[1;33m\u001b[0m\u001b[0m\n",
      "\u001b[1;31mNameError\u001b[0m: name 'n_train_batches' is not defined"
     ]
    }
   ],
   "source": [
    "###############\n",
    "# TRAIN MODEL #\n",
    "###############\n",
    "\n",
    "t_next = time.time()\n",
    "t_prev = time.time()\n",
    "\n",
    "patience = 10000  # look as this many examples regardless\n",
    "validation_frequency = min(n_train_batches, patience / 2)\n",
    "epoch_size = 50\n",
    "col_count = area_size\n",
    "startIdx = 0\n",
    "endIdx = batch_size\n",
    "k = 0\n",
    "\n",
    "accuracy_train = 0\n",
    "valid_accuracy = 0\n",
    "test_accuracy = 0\n",
    "while (k <= epoch_size):\n",
    "    k = k + 1\n",
    "    start_Idx = 0\n",
    "    end_Idx = batch_size\n",
    "    accuracy_train = 0\n",
    "    for minibatch_index in xrange(n_train_batches): #per epoch\n",
    "        iter = (k - 1) * n_train_batches + minibatch_index\n",
    "        x_train = np.array(hf['train_set_x'][start_Idx:end_Idx])\n",
    "        x_train = np.rollaxis(x_train,1,4)\n",
    "        #print x_train.shape\n",
    "        y_train_s = np.array(hf['train_set_y'][start_Idx:end_Idx])\n",
    "        y_train = dense_to_one_hot(y_train_s)\n",
    "        \n",
    "        start_Idx = end_Idx\n",
    "        end_Idx = end_Idx + batch_size\n",
    "        train_step.run(feed_dict={x: x_train, y_: y_train, y_scalar: y_train_s, dummy_bool: False})\n",
    "        accuracy_train = accuracy_train + accuracy.eval(feed_dict={x: x_train, y_: y_train, y_scalar: y_train_s, dummy_bool: False})\n",
    "        #accuracy_train /= minibatch_index + 1\n",
    "        if end_Idx % 10000 == 0:            \n",
    "            print('%d/%d epoch, @iter = %d/%d, training accuracy : %.5f' %(k, epoch_size, end_Idx, trainingSize, accuracy_train/(minibatch_index + 1)))\n",
    "        \n",
    "        if (iter + 1) % validation_frequency == 0:\n",
    "            loss_fc1 = fc1_loss.eval(feed_dict={x: x_train, y_: y_train, y_scalar: y_train_s, dummy_bool: False})\n",
    "            loss_cv1 = cv1_loss.eval(feed_dict={x: x_train, y_: y_train, y_scalar: y_train_s, dummy_bool: False})\n",
    "            loss_cv2 = cv2_loss.eval(feed_dict={x: x_train, y_: y_train, y_scalar: y_train_s, dummy_bool: False})\n",
    "            loss_cv3 = cv3_loss.eval(feed_dict={x: x_train, y_: y_train, y_scalar: y_train_s, dummy_bool: False})\n",
    "            loss_cv4 = cv4_loss.eval(feed_dict={x: x_train, y_: y_train, y_scalar: y_train_s, dummy_bool: False})\n",
    "            \n",
    "            print('<<<<<epoch %i, minibatch %i/%i, training accuracy %.5f, cv1 %.2f, cv2 %.2f, cv3 %.2f, cv4 %.2f, fc1 %.2f>>>>>' %\n",
    "                  (k, minibatch_index + 1, n_train_batches,\n",
    "                   accuracy_train/(minibatch_index + 1), loss_cv1, loss_cv2, loss_cv3, loss_cv4, loss_fc1))\n",
    "            # compute zero-one loss on validation set\n",
    "            start_Idx_valid = 0\n",
    "            end_Idx_valid = batch_size\n",
    "            valid_loss = 0;\n",
    "            valid_accuracy = 0\n",
    "            for valid_minibatch in xrange(n_valid_batches):\n",
    "                x_valid = np.array(hf['valid_set_x'][start_Idx_valid:end_Idx_valid])\n",
    "                x_valid = np.rollaxis(x_valid,1,4)\n",
    "                y_valid_s = np.array(hf['valid_set_y'][start_Idx_valid:end_Idx_valid])\n",
    "                y_valid = dense_to_one_hot(y_valid_s)\n",
    "                start_Idx_valid  = end_Idx_valid\n",
    "                end_Idx_valid = end_Idx_valid + batch_size               \n",
    "                valid_accuracy = valid_accuracy + accuracy.eval(feed_dict={x: x_valid, y_: y_valid, y_scalar: y_valid_s, dummy_bool: False})\n",
    "\n",
    "            valid_accuracy = valid_accuracy / n_valid_batches\n",
    "            print('epoch %i, minibatch %i/%i, valid accuracy %.5f' %\n",
    "                  (k, minibatch_index + 1, n_train_batches, valid_accuracy))\n",
    "\n",
    "            # test it on the test set\n",
    "            start_Idx_test = 0\n",
    "            end_Idx_test = batch_size\n",
    "            test_loss = 0\n",
    "            test_accuracy = 0\n",
    "            for test_minibatch in xrange(n_test_batches):\n",
    "                x_test = np.array(hf['test_set_x'][start_Idx_test:end_Idx_test])\n",
    "                x_test = np.rollaxis(x_test,1,4)\n",
    "                y_test_s = np.array(hf['test_set_y'][start_Idx_test:end_Idx_test])\n",
    "                y_test= dense_to_one_hot(y_test_s)\n",
    "                start_Idx_test  = end_Idx_test\n",
    "                end_Idx_test= end_Idx_test + batch_size\n",
    "                test_accuracy = test_accuracy + accuracy.eval(feed_dict={x: x_test, y_: y_test, y_scalar: y_test_s, dummy_bool: False})\n",
    "\n",
    "            test_score = test_loss / n_test_batches\n",
    "            test_accuracy = test_accuracy / n_test_batches\n",
    "            print('     epoch %i, minibatch %i/%i, test accuracy %.5f' %\n",
    "                      (k, minibatch_index + 1, n_train_batches, test_accuracy))\n",
    "            \n",
    "            f = open(res_dir + '/status_training.txt', 'a')\n",
    "            f.write(\"epoch %d, training accuracy %.5f, valid accuracy : %.5f, test accuracy: %.5f, cv1 %.2f, cv2 %.2f, cv3 %.2f, cv4 %.2f, fc1 %.2f\\n\"%(k, \n",
    "                        accuracy_train/(minibatch_index + 1), valid_accuracy, test_accuracy, loss_cv1, loss_cv2, loss_cv3, loss_cv4, loss_fc1))\n",
    "            f.close()"
   ]
  },
  {
   "cell_type": "code",
   "execution_count": null,
   "metadata": {
    "collapsed": true,
    "scrolled": true
   },
   "outputs": [],
   "source": []
  }
 ],
 "metadata": {
  "kernelspec": {
   "display_name": "Python 2",
   "language": "python",
   "name": "python2"
  },
  "language_info": {
   "codemirror_mode": {
    "name": "ipython",
    "version": 2
   },
   "file_extension": ".py",
   "mimetype": "text/x-python",
   "name": "python",
   "nbconvert_exporter": "python",
   "pygments_lexer": "ipython2",
   "version": "2.7.6"
  }
 },
 "nbformat": 4,
 "nbformat_minor": 0
}
