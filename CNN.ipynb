{
 "cells": [
  {
   "cell_type": "code",
   "execution_count": 1,
   "metadata": {
    "collapsed": false,
    "scrolled": true
   },
   "outputs": [],
   "source": [
    "%matplotlib inline\n",
    "import sys \n",
    "import numpy as np\n",
    "import h5py \n",
    "import matplotlib.pyplot as plt\n",
    "import time\n",
    "import datetime\n",
    "import os\n",
    "import tensorflow as tf\n",
    "from tensorflow.python import control_flow_ops\n",
    "import math"
   ]
  },
  {
   "cell_type": "code",
   "execution_count": 2,
   "metadata": {
    "collapsed": true,
    "scrolled": true
   },
   "outputs": [],
   "source": [
    "sess = tf.Session(config=tf.ConfigProto(gpu_options=tf.GPUOptions(allow_growth=True)))"
   ]
  },
  {
   "cell_type": "code",
   "execution_count": 3,
   "metadata": {
    "collapsed": false,
    "scrolled": true
   },
   "outputs": [
    {
     "name": "stdout",
     "output_type": "stream",
     "text": [
      "datasets: [u'test_set_x', u'test_set_y', u'train_set_x', u'train_set_y', u'valid_set_x', u'valid_set_y']\n",
      "40000 10000 10000\n"
     ]
    }
   ],
   "source": [
    "hf = h5py.File('../data/cifar-10.hdf5','r')\n",
    "print('datasets: {}'.format(hf.keys()))\n",
    "\n",
    "#x_train = theano.shared(hf['x_train'][()])\n",
    "#t_train = theano.shared(dense_to_one_hot(np.array(hf['t_train'][()])))\n",
    "#x_valid = theano.shared(hf['x_valid'][()])\n",
    "#t_valid = theano.shared(dense_to_one_hot(np.array(hf['t_valid'][()])))\n",
    "#x_test  = theano.shared(hf['x_test'][()])\n",
    "#t_test  = theano.shared(dense_to_one_hot(np.array(hf['t_test'][()])))\n",
    "\n",
    "n_class     = 10\n",
    "width_size  = 32\n",
    "height_size = 32\n",
    "area_size   = width_size * height_size * 3\n",
    "trainingSize = hf['train_set_x'].shape[0]\n",
    "validationSize = hf['valid_set_x'].shape[0]\n",
    "testSize = hf['test_set_x'].shape[0]\n",
    "\n",
    "print trainingSize, validationSize, testSize\n",
    "\n",
    "batch_size = 100\n",
    "C_val = 0.001"
   ]
  },
  {
   "cell_type": "code",
   "execution_count": 4,
   "metadata": {
    "collapsed": false
   },
   "outputs": [
    {
     "name": "stdout",
     "output_type": "stream",
     "text": [
      "10\n"
     ]
    }
   ],
   "source": [
    "def temp_print():\n",
    "    print n_class\n",
    "    \n",
    "temp_print()"
   ]
  },
  {
   "cell_type": "code",
   "execution_count": 5,
   "metadata": {
    "collapsed": false,
    "scrolled": true
   },
   "outputs": [
    {
     "name": "stdout",
     "output_type": "stream",
     "text": [
      "[size of each set]\n",
      "training_set : 40000, valid_set : 10000, test_set : 10000\n",
      "[size of each batch]\n",
      "training_set : 400, valid_set : 100, test_set : 100\n"
     ]
    }
   ],
   "source": [
    "\"\"\"\n",
    "datasets = load_data(\n",
    "dataset)\n",
    "\n",
    "train_set_x, train_set_y = datasets[0]\n",
    "valid_set_x, valid_set_y = datasets[1]\n",
    "test_set_x, test_set_y = datasets[2]\n",
    "\"\"\"\n",
    "# compute number of minibatches for training, validation and testing\n",
    "batch_size = 100\n",
    "n_train_batches = trainingSize\n",
    "n_valid_batches = validationSize\n",
    "n_test_batches = testSize\n",
    "n_train_batches /= batch_size\n",
    "n_valid_batches /= batch_size\n",
    "n_test_batches /= batch_size\n",
    "\n",
    "print '[size of each set]'\n",
    "print ('training_set : %d, valid_set : %d, test_set : %d' %(hf['train_set_x'].shape[0], hf['valid_set_x'].shape[0], hf['test_set_x'].shape[0]))\n",
    "print '[size of each batch]'\n",
    "print ('training_set : %d, valid_set : %d, test_set : %d' %(n_train_batches, n_valid_batches, n_test_batches))"
   ]
  },
  {
   "cell_type": "code",
   "execution_count": 6,
   "metadata": {
    "collapsed": true,
    "scrolled": true
   },
   "outputs": [],
   "source": [
    "conv1_n_param = [5, 5, 3, 32]\n",
    "poo11_n_param = (2, 2)\n",
    "conv2_n_param = [5, 5, 32, 64]\n",
    "pool2_n_param = (2, 2)\n",
    "\n",
    "conv3_n_param = [5, 5, 64, 128]\n",
    "pool3_n_param = (2, 2)\n",
    "conv4_n_param = [3, 3, 128, 256]\n",
    "pool4_n_param = (4, 4)\n",
    "\n",
    "fc1_n_param = [8 * 8 * 64, 512]      \n",
    "#fc2_n_param = [384, 192]   \n",
    "fc2_n_param = [512, n_class]"
   ]
  },
  {
   "cell_type": "code",
   "execution_count": 7,
   "metadata": {
    "collapsed": true,
    "scrolled": true
   },
   "outputs": [],
   "source": [
    "sess = tf.InteractiveSession()"
   ]
  },
  {
   "cell_type": "code",
   "execution_count": 8,
   "metadata": {
    "collapsed": true,
    "scrolled": true
   },
   "outputs": [],
   "source": [
    "def class_wiseACC(features, true_label, node_idx): # x = 200 x 128, w = 128 x 1, y = 200 x 1\n",
    "    locs = tf.where(tf.equal(tf.argmax(true_label,1), node_idx))\n",
    "    classed_label = tf.argmax(tf.gather(features, locs), 2)\n",
    "    classed_y_ = tf.argmax(tf.gather(true_label, locs), 2)\n",
    "    prediction = tf.equal(classed_label, classed_y_)\n",
    "    hit = tf.reduce_sum(tf.cast(prediction, \"float\"))\n",
    "    return hit\n",
    "\n",
    "def calc_counts(true_label, node_idx): # x = 200 x 128, w = 128 x 1, y = 200 x 1\n",
    "    locs = tf.where(tf.equal(tf.argmax(true_label,1), node_idx))\n",
    "    return tf.size(locs)"
   ]
  },
  {
   "cell_type": "code",
   "execution_count": 9,
   "metadata": {
    "collapsed": false,
    "scrolled": true
   },
   "outputs": [],
   "source": [
    "x = tf.placeholder(\"float\", shape=[batch_size, 32, 32, 3])\n",
    "y_ = tf.placeholder(\"float\", shape=[batch_size, None])\n",
    "y_scalar = tf.placeholder(\"float\", shape=[None])\n",
    "dummy_bool = tf.placeholder(tf.bool, name='phase_train')\n",
    "\n",
    "def weight_variable(shape):\n",
    "    initial = tf.truncated_normal(shape, stddev=0.02)\n",
    "    return tf.Variable(initial)\n",
    "def bias_variable(shape):\n",
    "    initial = tf.constant(0.02, shape=shape)\n",
    "    return tf.Variable(initial)\n",
    "\n",
    "def conv2d(x, W, stride):\n",
    "    return tf.nn.conv2d(x, W, strides=[1, stride, stride, 1], padding='SAME')\n",
    "\n",
    "def max_pool_2x2(x, stride):\n",
    "    return tf.nn.max_pool(x, ksize=[1, 2, 2, 1],\n",
    "                        strides=[1, stride, stride, 1], padding='SAME')\n",
    "def max_pool_4x4(x, stride):\n",
    "    return tf.nn.max_pool(x, ksize=[1, 4, 4, 1],\n",
    "                        strides=[1, stride, stride, 1], padding='VALID')\n",
    "\n",
    "#x_ = tf.reshape(x, [-1, 32, 32, 1])\n",
    "W_conv1 = weight_variable(conv1_n_param)\n",
    "b_conv1 = bias_variable([conv1_n_param[-1]])\n",
    "feature_ly1 = conv2d(x, W_conv1, 1) + b_conv1\n",
    "#moments_cv1 = [var_loss_fc(feature_ly1, y_scalar, idx, dummy_bool) for idx in range(0, n_class)]\n",
    "#cv1_loss = clac_layerwise_loss(moments_cv1, conv1_n_param[-1] *32 * 32)\n",
    "h_conv1 = tf.nn.relu(feature_ly1)\n",
    "h_pool1 = max_pool_2x2(h_conv1, 2)\n",
    "\n",
    "W_conv2 = weight_variable(conv2_n_param)\n",
    "b_conv2 = bias_variable([conv2_n_param[-1]])\n",
    "feature_ly2 = conv2d(h_pool1, W_conv2, 1) + b_conv2\n",
    "#moments_cv2 = [var_loss_fc(feature_ly2, y_scalar, idx, dummy_bool) for idx in range(0, n_class)]\n",
    "#cv2_loss = clac_layerwise_loss(moments_cv2, conv2_n_param[-1] *16 * 16)\n",
    "h_conv2 = tf.nn.relu(feature_ly2)\n",
    "h_pool2 = max_pool_2x2(h_conv2, 2)\n",
    "'''\n",
    "W_conv3 = weight_variable(conv3_n_param)\n",
    "b_conv3 = bias_variable([conv3_n_param[-1]])\n",
    "feature_ly3 = conv2d(h_pool2, W_conv3, 1) + b_conv3\n",
    "#moments_cv3 = [var_loss_fc(feature_ly3, y_scalar, idx, dummy_bool) for idx in range(0, n_class)]\n",
    "#cv3_loss = clac_layerwise_loss(moments_cv3, conv3_n_param[-1] *8 * 8)\n",
    "h_conv3 = tf.nn.relu(feature_ly3)\n",
    "h_pool3 = max_pool_2x2(h_conv3, 2)\n",
    "\n",
    "W_conv4 = weight_variable(conv4_n_param)\n",
    "b_conv4 = bias_variable([conv4_n_param[-1]])\n",
    "feature_ly4 = conv2d(h_pool3, W_conv4, 1) + b_conv4\n",
    "#moments_cv4 = [var_loss_fc(feature_ly4, y_scalar, idx, dummy_bool) for idx in range(0, n_class)]\n",
    "#cv4_loss = clac_layerwise_loss(moments_cv4, conv4_n_param[-1] * 4 * 4)\n",
    "h_conv4 = tf.nn.relu(feature_ly4)\n",
    "h_pool4 = max_pool_4x4(h_conv4, 1)\n",
    "#print h_pool4.get_shape()[3]\n",
    "'''\n",
    "h_pool2_flat = tf.reshape(h_pool2, [-1, fc1_n_param[0]])\n",
    "\n",
    "W_fc1 = weight_variable(fc1_n_param)\n",
    "b_fc1 = bias_variable([fc1_n_param[-1]])\n",
    "w_sum_fc1 = tf.matmul(h_pool2_flat, W_fc1) + b_fc1\n",
    "#moments_fc1 = [var_loss_fc(w_sum_fc1, y_scalar, idx, dummy_bool) for idx in range(0, n_class)]\n",
    "#fc1_loss = clac_layerwise_loss(moments_fc1, fc1_n_param[-1])\n",
    "h_fc1 = tf.nn.relu(w_sum_fc1)\n",
    "keep_prob = tf.placeholder(\"float\")\n",
    "h_fc1 = tf.nn.dropout(h_fc1, keep_prob)\n",
    "\n",
    "\n",
    "W_fc2 = weight_variable(fc2_n_param)\n",
    "b_fc2 = bias_variable([fc2_n_param[-1]])\n",
    "w_sum_fc2 = tf.matmul(h_fc1, W_fc2) + b_fc2\n",
    "output = tf.nn.softmax(w_sum_fc2)\n",
    "cross_entropy = -tf.reduce_sum(y_*tf.log(tf.clip_by_value(output, 1e-10, 1.0))) #loss는 최종 loss + 각 레이어의 var정보\n",
    "regularizers = tf.nn.l2_loss(W_fc1) + tf.nn.l2_loss(W_fc2) + tf.nn.l2_loss(b_fc2) + tf.nn.l2_loss(b_fc1)\n",
    "\n",
    "loss = cross_entropy + 0.01*regularizers #+ fc2_loss + fc1_loss + cv2_loss + cv1_loss + cv3_loss + cv4_loss\n",
    "train_step = tf.train.AdamOptimizer(1e-4).minimize(loss)\n",
    "#print y_*tf.log(tf.clip_by_value(hid_layer_3,1e-10,1.0)).get_shape()\n",
    "\n",
    "correct_prediction = tf.equal(tf.mod(tf.argmax(output,1), n_class), tf.argmax(y_,1))\n",
    "mis_pred = tf.not_equal(tf.argmax(output,1), tf.argmax(y_,1))\n",
    "accuracy = tf.reduce_mean(tf.cast(correct_prediction, \"float\"))\n",
    "\n",
    "correct_prediction_tr = tf.equal(tf.argmax(output,1), tf.argmax(y_,1))\n",
    "\n",
    "#hits = tf.pack([layer_wiseACC(output, y_scalar, idx) for idx in range(0,  n_class)])\n",
    "hits = tf.pack([class_wiseACC(output, y_, idx) for idx in range(0,  n_class)])\n",
    "counts  = tf.pack([calc_counts(y_, idx) for idx in range(0,  n_class)])\n",
    "class_acc = tf.div(hits, tf.to_float(counts))\n",
    "total_hits = tf.reduce_sum(tf.cast(correct_prediction, \"float\"))\n",
    "\n",
    "#batch_mean, batch_var = tf.reduce_mean(tf.gather(x, locs), 0)\n",
    "#batch_mean, batch_var = tf.nn.moments(tf.gather(x, locs), [0], name='moments')\n",
    "\n",
    "sess.run(tf.initialize_all_variables())\n"
   ]
  },
  {
   "cell_type": "code",
   "execution_count": 10,
   "metadata": {
    "collapsed": true
   },
   "outputs": [],
   "source": [
    "'''Convert class labels from scalars to one-hot vectors.'''\n",
    "def dense_to_one_hot(labels_dense, num_classes=n_class):\n",
    "    num_labels = labels_dense.shape[0]\n",
    "    index_offset = np.arange(num_labels) * num_classes\n",
    "    labels_one_hot = np.zeros((num_labels, num_classes), dtype=np.float32)\n",
    "    labels_one_hot.flat[index_offset + labels_dense.ravel()] = 1\n",
    "    return labels_one_hot"
   ]
  },
  {
   "cell_type": "code",
   "execution_count": 11,
   "metadata": {
    "collapsed": true
   },
   "outputs": [],
   "source": [
    "def find_idxs(sess, label_arr, data_arr, total_size, n_class): # x = 200 x 128, w = 128 x 1, y = 200 x 1\n",
    "    start_Idx = 0\n",
    "    end_Idx = batch_size\n",
    "    missIdx = []\n",
    "    for minibatch_index in xrange(total_size):\n",
    "        x_data = np.array(data_arr['train_set_x'][start_Idx:end_Idx])\n",
    "        x_data = np.rollaxis(x_data,1,4)\n",
    "        y_data = dense_to_one_hot(label_arr[start_Idx:end_Idx], n_class)\n",
    "        misMat = sess.run([mis_pred], feed_dict={x: x_data, y_: y_data, y_scalar: label_arr, dummy_bool: False, keep_prob: 1.0})\n",
    "        missIdx = np.append(missIdx, np.add(np.where(np.array(misMat)), start_Idx)[1,])\n",
    "        #print misMat\n",
    "        #print np.where(~np.array(misMat))\n",
    "        #print end_Idx\n",
    "        #print label_arr[missIdx]\n",
    "        start_Idx = end_Idx\n",
    "        end_Idx = end_Idx + batch_size\n",
    "    \n",
    "    return missIdx\n"
   ]
  },
  {
   "cell_type": "code",
   "execution_count": 12,
   "metadata": {
    "collapsed": true
   },
   "outputs": [],
   "source": [
    "def reLabeling(sess, label_arr, missIdx): # x = 200 x 128, w = 128 x 1, y = 200 x 1\n",
    "    ##fc2_n_param = [512, n_class] => [512, n_class*2]\n",
    "    global n_class\n",
    "    global W_fc2\n",
    "    global b_fc2\n",
    "    global w_sum_fc2\n",
    "    global output\n",
    "    global cross_entropy\n",
    "    global regularizers\n",
    "    global loss\n",
    "    global train_step\n",
    "    global correct_prediction\n",
    "    global mis_pred\n",
    "    global accuracy\n",
    "    global total_hits\n",
    "    global correct_prediction_tr\n",
    "    \n",
    "    \n",
    "    new_label = label_arr\n",
    "    new_label[missIdx] = label_arr[missIdx] + (n_class)\n",
    "    fc2_n_param[-1] = fc2_n_param[-1] + 10\n",
    "    \n",
    "    W_fc2_temp = weight_variable([fc2_n_param[0], 10])\n",
    "    b_fc2_temp = bias_variable([n_class])\n",
    "    \n",
    "    init_new_vars_op = tf.initialize_variables([W_fc2_temp, b_fc2_temp])\n",
    "    sess.run(init_new_vars_op)\n",
    "    W_fc2 = tf.concat(1, [W_fc2, W_fc2_temp])\n",
    "    b_fc2 = tf.concat(0, [b_fc2, b_fc2_temp])\n",
    "    print W_fc2.eval().shape\n",
    "    \n",
    "    w_sum_fc2 = tf.matmul(h_fc1, W_fc2) + b_fc2\n",
    "    output = tf.nn.softmax(w_sum_fc2)\n",
    "    cross_entropy = -tf.reduce_sum(y_*tf.log(tf.clip_by_value(output, 1e-10, 1.0))) #loss는 최종 loss + 각 레이어의 var정보\n",
    "    regularizers = tf.nn.l2_loss(W_fc1) + tf.nn.l2_loss(W_fc2) + tf.nn.l2_loss(b_fc2) + tf.nn.l2_loss(b_fc1)\n",
    "\n",
    "    loss = cross_entropy + 0.01*regularizers #+ fc2_loss + fc1_loss + cv2_loss + cv1_loss + cv3_loss + cv4_loss\n",
    "    train_step = tf.train.AdamOptimizer(1e-4).minimize(loss)\n",
    "    \n",
    "    correct_prediction = tf.equal(tf.mod(tf.argmax(output,1), n_class), tf.argmax(y_,1))\n",
    "    correct_prediction_tr = tf.equal(tf.argmax(output,1), tf.argmax(y_,1))\n",
    "    mis_pred = tf.not_equal(tf.argmax(output,1), tf.argmax(y_,1))\n",
    "    accuracy = tf.reduce_mean(tf.cast(correct_prediction, \"float\"))\n",
    "    total_hits = tf.reduce_sum(tf.cast(correct_prediction, \"float\"))\n",
    "    \n",
    "    \n",
    "    \n",
    "    sess.run(tf.initialize_all_variables())\n",
    "    \n",
    "    return new_label\n"
   ]
  },
  {
   "cell_type": "code",
   "execution_count": 13,
   "metadata": {
    "collapsed": false,
    "scrolled": true
   },
   "outputs": [
    {
     "name": "stdout",
     "output_type": "stream",
     "text": [
      "1/50 epoch, @iter = 10000/40000, training accuracy : 0.20242\n"
     ]
    },
    {
     "ename": "KeyboardInterrupt",
     "evalue": "",
     "output_type": "error",
     "traceback": [
      "\u001b[1;31m---------------------------------------------------------------------------\u001b[0m",
      "\u001b[1;31mKeyboardInterrupt\u001b[0m                         Traceback (most recent call last)",
      "\u001b[1;32m<ipython-input-13-d236691ceffd>\u001b[0m in \u001b[0;36m<module>\u001b[1;34m()\u001b[0m\n\u001b[0;32m     30\u001b[0m     \u001b[1;32mfor\u001b[0m \u001b[0mminibatch_index\u001b[0m \u001b[1;32min\u001b[0m \u001b[0mxrange\u001b[0m\u001b[1;33m(\u001b[0m\u001b[0mn_train_batches\u001b[0m\u001b[1;33m)\u001b[0m\u001b[1;33m:\u001b[0m \u001b[1;31m#per epoch\u001b[0m\u001b[1;33m\u001b[0m\u001b[0m\n\u001b[0;32m     31\u001b[0m         \u001b[0miter\u001b[0m \u001b[1;33m=\u001b[0m \u001b[1;33m(\u001b[0m\u001b[0mk\u001b[0m \u001b[1;33m-\u001b[0m \u001b[1;36m1\u001b[0m\u001b[1;33m)\u001b[0m \u001b[1;33m*\u001b[0m \u001b[0mn_train_batches\u001b[0m \u001b[1;33m+\u001b[0m \u001b[0mminibatch_index\u001b[0m\u001b[1;33m\u001b[0m\u001b[0m\n\u001b[1;32m---> 32\u001b[1;33m         \u001b[0mx_train\u001b[0m \u001b[1;33m=\u001b[0m \u001b[0mnp\u001b[0m\u001b[1;33m.\u001b[0m\u001b[0marray\u001b[0m\u001b[1;33m(\u001b[0m\u001b[0mhf\u001b[0m\u001b[1;33m[\u001b[0m\u001b[1;34m'train_set_x'\u001b[0m\u001b[1;33m]\u001b[0m\u001b[1;33m[\u001b[0m\u001b[0mstart_Idx\u001b[0m\u001b[1;33m:\u001b[0m\u001b[0mend_Idx\u001b[0m\u001b[1;33m]\u001b[0m\u001b[1;33m)\u001b[0m\u001b[1;33m\u001b[0m\u001b[0m\n\u001b[0m\u001b[0;32m     33\u001b[0m         \u001b[0mx_train\u001b[0m \u001b[1;33m=\u001b[0m \u001b[0mnp\u001b[0m\u001b[1;33m.\u001b[0m\u001b[0mrollaxis\u001b[0m\u001b[1;33m(\u001b[0m\u001b[0mx_train\u001b[0m\u001b[1;33m,\u001b[0m\u001b[1;36m1\u001b[0m\u001b[1;33m,\u001b[0m\u001b[1;36m4\u001b[0m\u001b[1;33m)\u001b[0m\u001b[1;33m\u001b[0m\u001b[0m\n\u001b[0;32m     34\u001b[0m         \u001b[1;31m#print x_train.shape\u001b[0m\u001b[1;33m\u001b[0m\u001b[1;33m\u001b[0m\u001b[0m\n",
      "\u001b[1;32m/usr/lib/python2.7/dist-packages/h5py/_objects.pyx\u001b[0m in \u001b[0;36mh5py._objects.with_phil.wrapper (/tmp/pip_build_root/h5py/h5py/_objects.c:2691)\u001b[1;34m()\u001b[0m\n\u001b[0;32m     52\u001b[0m     \u001b[0mlock\u001b[0m \u001b[1;32mis\u001b[0m \u001b[0mneeded\u001b[0m\u001b[1;33m,\u001b[0m \u001b[0mit\u001b[0m \u001b[0macquires\u001b[0m \u001b[0mthe\u001b[0m \u001b[0mlock\u001b[0m \u001b[1;32mand\u001b[0m \u001b[0mnotifies\u001b[0m \u001b[0mthe\u001b[0m \u001b[0mfirst\u001b[0m \u001b[0mthread\u001b[0m\u001b[1;33m\u001b[0m\u001b[0m\n\u001b[0;32m     53\u001b[0m     \u001b[0mto\u001b[0m \u001b[0mrelease\u001b[0m \u001b[0mit\u001b[0m \u001b[0mwhen\u001b[0m \u001b[0mit\u001b[0m\u001b[0;31m'\u001b[0m\u001b[0ms\u001b[0m \u001b[0mdone\u001b[0m\u001b[1;33m.\u001b[0m  \u001b[0mThis\u001b[0m \u001b[1;32mis\u001b[0m \u001b[0mall\u001b[0m \u001b[0mmade\u001b[0m \u001b[0mpossible\u001b[0m \u001b[0mby\u001b[0m \u001b[0mthe\u001b[0m\u001b[1;33m\u001b[0m\u001b[0m\n\u001b[1;32m---> 54\u001b[1;33m     \u001b[0mwonderful\u001b[0m \u001b[0mGIL\u001b[0m\u001b[1;33m.\u001b[0m\u001b[1;33m\u001b[0m\u001b[0m\n\u001b[0m\u001b[0;32m     55\u001b[0m     \"\"\"\n\u001b[0;32m     56\u001b[0m     \u001b[0mcdef\u001b[0m \u001b[0mpythread\u001b[0m\u001b[1;33m.\u001b[0m\u001b[0mPyThread_type_lock\u001b[0m \u001b[0m_real_lock\u001b[0m\u001b[1;33m\u001b[0m\u001b[0m\n",
      "\u001b[1;32m/usr/lib/python2.7/dist-packages/h5py/_objects.pyx\u001b[0m in \u001b[0;36mh5py._objects.with_phil.wrapper (/tmp/pip_build_root/h5py/h5py/_objects.c:2649)\u001b[1;34m()\u001b[0m\n\u001b[0;32m     53\u001b[0m     \u001b[0mto\u001b[0m \u001b[0mrelease\u001b[0m \u001b[0mit\u001b[0m \u001b[0mwhen\u001b[0m \u001b[0mit\u001b[0m\u001b[0;31m'\u001b[0m\u001b[0ms\u001b[0m \u001b[0mdone\u001b[0m\u001b[1;33m.\u001b[0m  \u001b[0mThis\u001b[0m \u001b[1;32mis\u001b[0m \u001b[0mall\u001b[0m \u001b[0mmade\u001b[0m \u001b[0mpossible\u001b[0m \u001b[0mby\u001b[0m \u001b[0mthe\u001b[0m\u001b[1;33m\u001b[0m\u001b[0m\n\u001b[0;32m     54\u001b[0m     \u001b[0mwonderful\u001b[0m \u001b[0mGIL\u001b[0m\u001b[1;33m.\u001b[0m\u001b[1;33m\u001b[0m\u001b[0m\n\u001b[1;32m---> 55\u001b[1;33m     \"\"\"\n\u001b[0m\u001b[0;32m     56\u001b[0m     \u001b[0mcdef\u001b[0m \u001b[0mpythread\u001b[0m\u001b[1;33m.\u001b[0m\u001b[0mPyThread_type_lock\u001b[0m \u001b[0m_real_lock\u001b[0m\u001b[1;33m\u001b[0m\u001b[0m\n\u001b[0;32m     57\u001b[0m     \u001b[0mcdef\u001b[0m \u001b[0mlong\u001b[0m \u001b[0m_owner\u001b[0m            \u001b[1;31m# ID of thread owning the lock\u001b[0m\u001b[1;33m\u001b[0m\u001b[0m\n",
      "\u001b[1;32m/usr/local/lib/python2.7/dist-packages/h5py/_hl/dataset.pyc\u001b[0m in \u001b[0;36m__getitem__\u001b[1;34m(self, args)\u001b[0m\n\u001b[0;32m    480\u001b[0m         \u001b[0mmspace\u001b[0m \u001b[1;33m=\u001b[0m \u001b[0mh5s\u001b[0m\u001b[1;33m.\u001b[0m\u001b[0mcreate_simple\u001b[0m\u001b[1;33m(\u001b[0m\u001b[0mmshape\u001b[0m\u001b[1;33m)\u001b[0m\u001b[1;33m\u001b[0m\u001b[0m\n\u001b[0;32m    481\u001b[0m         \u001b[0mfspace\u001b[0m \u001b[1;33m=\u001b[0m \u001b[0mselection\u001b[0m\u001b[1;33m.\u001b[0m\u001b[0mid\u001b[0m\u001b[1;33m\u001b[0m\u001b[0m\n\u001b[1;32m--> 482\u001b[1;33m         \u001b[0mself\u001b[0m\u001b[1;33m.\u001b[0m\u001b[0mid\u001b[0m\u001b[1;33m.\u001b[0m\u001b[0mread\u001b[0m\u001b[1;33m(\u001b[0m\u001b[0mmspace\u001b[0m\u001b[1;33m,\u001b[0m \u001b[0mfspace\u001b[0m\u001b[1;33m,\u001b[0m \u001b[0marr\u001b[0m\u001b[1;33m,\u001b[0m \u001b[0mmtype\u001b[0m\u001b[1;33m,\u001b[0m \u001b[0mdxpl\u001b[0m\u001b[1;33m=\u001b[0m\u001b[0mself\u001b[0m\u001b[1;33m.\u001b[0m\u001b[0m_dxpl\u001b[0m\u001b[1;33m)\u001b[0m\u001b[1;33m\u001b[0m\u001b[0m\n\u001b[0m\u001b[0;32m    483\u001b[0m \u001b[1;33m\u001b[0m\u001b[0m\n\u001b[0;32m    484\u001b[0m         \u001b[1;31m# Patch up the output for NumPy\u001b[0m\u001b[1;33m\u001b[0m\u001b[1;33m\u001b[0m\u001b[0m\n",
      "\u001b[1;31mKeyboardInterrupt\u001b[0m: "
     ]
    }
   ],
   "source": [
    "###############\n",
    "# TRAIN MODEL #\n",
    "###############\n",
    "\n",
    "t_next = time.time()\n",
    "t_prev = time.time()\n",
    "\n",
    "patience = 10000  # look as this many examples regardless\n",
    "validation_frequency = min(n_train_batches, patience / 2)\n",
    "epoch_size = 50\n",
    "col_count = area_size\n",
    "startIdx = 0\n",
    "endIdx = batch_size\n",
    "k = 0\n",
    "\n",
    "current_class = 10\n",
    "partitionCnt = 0\n",
    "\n",
    "accuracy_train = 0\n",
    "valid_accuracy = 0\n",
    "test_accuracy = 0\n",
    "y_train_s = np.array(hf['train_set_y'][:])\n",
    "while (k <= epoch_size):\n",
    "    k = k + 1\n",
    "    start_Idx = 0\n",
    "    end_Idx = batch_size\n",
    "    accuracy_train = 0\n",
    "    class_accs_train = np.zeros(n_class)\n",
    "    total_train = 0\n",
    "    for minibatch_index in xrange(n_train_batches): #per epoch\n",
    "        iter = (k - 1) * n_train_batches + minibatch_index\n",
    "        x_train = np.array(hf['train_set_x'][start_Idx:end_Idx])\n",
    "        x_train = np.rollaxis(x_train,1,4)\n",
    "        #print x_train.shape\n",
    "        #y_train_s = np.array(hf['train_set_y'][start_Idx:end_Idx])\n",
    "        y_train = dense_to_one_hot(y_train_s[start_Idx:end_Idx], n_class)\n",
    "        \n",
    "        \n",
    "        #train_step.run(feed_dict={x: x_train, y_: y_train, y_scalar: y_train_s, dummy_bool: False})\n",
    "        #_, class_hits, total, misMat = sess.run([train_step, hits, total_hits, mis_pred], feed_dict={x: x_train, y_: y_train, y_scalar: y_train_s, dummy_bool: False})\n",
    "        _, misMat = sess.run([train_step, mis_pred], feed_dict={x: x_train, y_: y_train, y_scalar: y_train_s, dummy_bool: False, keep_prob: 0.4})\n",
    "        accuracy_train = accuracy_train + accuracy.eval(feed_dict={x: x_train, y_: y_train, y_scalar: y_train_s, dummy_bool: False, keep_prob: 1.0})\n",
    "        \n",
    "        #class_accs_train = class_accs_train + class_hits\n",
    "        #total_train = total_train + total\n",
    "        #acc_true = total_train / (batch_size * (minibatch_index+1))     \n",
    "        \n",
    "        start_Idx = end_Idx\n",
    "        end_Idx = end_Idx + batch_size\n",
    "        #accuracy_train /= minibatch_index + 1\n",
    "        \n",
    "        \n",
    "        if end_Idx % 10000 == 0:            \n",
    "            print('%d/%d epoch, @iter = %d/%d, training accuracy : %.5f' %(k, epoch_size, end_Idx, trainingSize, accuracy_train/(minibatch_index + 1)))\n",
    "            \n",
    "        if (iter + 1) % validation_frequency == 0:\n",
    "            \n",
    "            #print('<<<<<epoch %i, minibatch %i/%i, training accuracy %.5f>>>>>' %\n",
    "            #      (k, minibatch_index + 1, n_train_batches, acc_true))\n",
    "            #print (\"hits train, \", class_accs_train)\n",
    "            if (k == 100):\n",
    "                missIdxs = find_idxs(sess, y_train_s, hf, n_train_batches, n_class)\n",
    "                missIdxs = missIdxs.astype(int)\n",
    "                print missIdxs\n",
    "                print y_train_s[missIdxs]\n",
    "                print missIdxs.shape\n",
    "                y_train_s = reLabeling(sess, y_train_s, missIdxs)\n",
    "                n_class = n_class + 10\n",
    "                #print W_fc2.eval().shape\n",
    "                print w_sum_fc2.eval(feed_dict={x: x_train, y_: y_train, y_scalar: y_train_s, dummy_bool: False, keep_prob: 1.0}).shape\n",
    "                partitionCnt = partitionCnt+1\n",
    "            \n",
    "            \n",
    "            # compute zero-one loss on validation set\n",
    "            start_Idx_valid = 0\n",
    "            end_Idx_valid = batch_size\n",
    "            valid_loss = 0;\n",
    "            valid_accuracy = 0\n",
    "            for valid_minibatch in xrange(n_valid_batches):\n",
    "                x_valid = np.array(hf['valid_set_x'][start_Idx_valid:end_Idx_valid])\n",
    "                x_valid = np.rollaxis(x_valid,1,4)\n",
    "                y_valid_s = np.array(hf['valid_set_y'][start_Idx_valid:end_Idx_valid])\n",
    "                y_valid = dense_to_one_hot(y_valid_s)\n",
    "                start_Idx_valid  = end_Idx_valid\n",
    "                end_Idx_valid = end_Idx_valid + batch_size               \n",
    "                valid_accuracy = valid_accuracy + accuracy.eval(feed_dict={x: x_valid, y_: y_valid, y_scalar: y_valid_s, dummy_bool: False, keep_prob: 1.0})\n",
    "\n",
    "            valid_accuracy = valid_accuracy / n_valid_batches\n",
    "            print('epoch %i, minibatch %i/%i, valid accuracy %.5f' %\n",
    "                  (k, minibatch_index + 1, n_train_batches, valid_accuracy))\n",
    "\n",
    "            # test it on the test set\n",
    "            start_Idx_test = 0\n",
    "            end_Idx_test = batch_size\n",
    "            test_loss = 0\n",
    "            test_accuracy = 0\n",
    "            class_accs_test = np.zeros(n_class)\n",
    "            for test_minibatch in xrange(n_test_batches):\n",
    "                x_test = np.array(hf['test_set_x'][start_Idx_test:end_Idx_test])\n",
    "                x_test = np.rollaxis(x_test,1,4)\n",
    "                y_test_s = np.array(hf['test_set_y'][start_Idx_test:end_Idx_test])\n",
    "                y_test= dense_to_one_hot(y_test_s)\n",
    "                start_Idx_test  = end_Idx_test\n",
    "                end_Idx_test= end_Idx_test + batch_size\n",
    "                test_accuracy = test_accuracy + accuracy.eval(feed_dict={x: x_test, y_: y_test, y_scalar: y_test_s, dummy_bool: False, keep_prob: 1.0})\n",
    "                #class_accs_test = class_accs_test + hits.eval(feed_dict={x: x_test, y_: y_test, y_scalar: y_test_s, dummy_bool: False})\n",
    "                \n",
    "            test_score = test_loss / n_test_batches\n",
    "            test_accuracy = test_accuracy / n_test_batches\n",
    "            print('     epoch %i, minibatch %i/%i, test accuracy %.5f' %\n",
    "                      (k, minibatch_index + 1, n_train_batches, test_accuracy))\n",
    "            #print (\"hits test, \", class_accs_test)\n",
    "            #f = open(res_dir + '/status_training.txt', 'a')\n",
    "            #f.write(\"epoch %d, training accuracy %.5f, valid accuracy : %.5f, test accuracy: %.5f, cv1 %.2f, cv2 %.2f, cv3 %.2f, cv4 %.2f, fc1 %.2f\\n\"%(k, \n",
    "            #            accuracy_train/(minibatch_index + 1), valid_accuracy, test_accuracy, loss_cv1, loss_cv2, loss_cv3, loss_cv4, loss_fc1))\n",
    "            #f.close()"
   ]
  },
  {
   "cell_type": "code",
   "execution_count": null,
   "metadata": {
    "collapsed": false
   },
   "outputs": [],
   "source": [
    "matchIdx_ori = tf.argmax(output,1)\n",
    "matchIdx = tf.mod(tf.argmax(output,1),10)\n",
    "a_, b_ = sess.run([matchIdx_ori, matchIdx], feed_dict={x: x_train, y_: y_train, y_scalar: y_train_s, dummy_bool: False, keep_prob: 1.0})\n",
    "print a_\n",
    "print b_\n",
    "print y_valid_s"
   ]
  },
  {
   "cell_type": "code",
   "execution_count": null,
   "metadata": {
    "collapsed": true
   },
   "outputs": [],
   "source": [
    "print 'hello'"
   ]
  },
  {
   "cell_type": "code",
   "execution_count": 35,
   "metadata": {
    "collapsed": false
   },
   "outputs": [
    {
     "ename": "NameError",
     "evalue": "name 'saver' is not defined",
     "output_type": "error",
     "traceback": [
      "\u001b[1;31m---------------------------------------------------------------------------\u001b[0m",
      "\u001b[1;31mNameError\u001b[0m                                 Traceback (most recent call last)",
      "\u001b[1;32m<ipython-input-35-7c7053032325>\u001b[0m in \u001b[0;36m<module>\u001b[1;34m()\u001b[0m\n\u001b[1;32m----> 1\u001b[1;33m \u001b[0msave_path\u001b[0m \u001b[1;33m=\u001b[0m \u001b[0msaver\u001b[0m\u001b[1;33m.\u001b[0m\u001b[0msave\u001b[0m\u001b[1;33m(\u001b[0m\u001b[0msess\u001b[0m\u001b[1;33m,\u001b[0m \u001b[1;34m\"./cnn_cifar10.ckpt\"\u001b[0m\u001b[1;33m)\u001b[0m\u001b[1;33m\u001b[0m\u001b[0m\n\u001b[0m",
      "\u001b[1;31mNameError\u001b[0m: name 'saver' is not defined"
     ]
    }
   ],
   "source": [
    "save_path = saver.save(sess, \"./cnn_cifar10.ckpt\")"
   ]
  },
  {
   "cell_type": "code",
   "execution_count": 45,
   "metadata": {
    "collapsed": false
   },
   "outputs": [],
   "source": [
    "import matplotlib.cm as cm\n",
    "locs = [tf.where(tf.equal(y_scalar, idx)) for idx in range(0, n_class)]\n",
    "locIdx = []\n",
    "\n",
    "for idx in range(0, n_class):\n",
    "    locIdx.append(locs[idx].eval(feed_dict={x: x_train, y_: y_train, y_scalar: y_train_s, dummy_bool: False}))\n",
    "    \n",
    "colors = cm.rainbow(np.linspace(0, 1, len(locIdx)))"
   ]
  },
  {
   "cell_type": "code",
   "execution_count": 32,
   "metadata": {
    "collapsed": false
   },
   "outputs": [],
   "source": [
    "start_Idx = 0\n",
    "end_Idx = 2000\n",
    "\n",
    "#x_train = np.array(hf['train_set_x'][start_Idx:end_Idx])\n",
    "#y_train = dense_to_one_hot(np.array(hf['train_set_y'][start_Idx:end_Idx]))\n",
    "#y_train_s = np.array(hf['train_set_y'][start_Idx:end_Idx])\n",
    "x_train = np.array(hf['test_set_x'][start_Idx:end_Idx]).reshape(2000,32,32,3)\n",
    "y_train = dense_to_one_hot(np.array(hf['test_set_y'][start_Idx:end_Idx]))\n",
    "y_train_s = np.array(hf['test_set_y'][start_Idx:end_Idx])"
   ]
  },
  {
   "cell_type": "code",
   "execution_count": 33,
   "metadata": {
    "collapsed": true
   },
   "outputs": [],
   "source": [
    "from sklearn.decomposition import PCA\n",
    "from sklearn import manifold, datasets"
   ]
  },
  {
   "cell_type": "code",
   "execution_count": 49,
   "metadata": {
    "collapsed": false
   },
   "outputs": [
    {
     "name": "stdout",
     "output_type": "stream",
     "text": [
      "(2000, 2)\n"
     ]
    },
    {
     "data": {
      "image/png": "[encoded data removed]",
      "text/plain": [
       "<matplotlib.figure.Figure at 0x7f5178d0e050>"
      ]
     },
     "metadata": {},
     "output_type": "display_data"
    }
   ],
   "source": [
    "res = w_sum_fc2.eval(feed_dict={x: x_train, y_: y_train, y_scalar: y_train_s, dummy_bool: False})\n",
    "#pca = PCA(n_components=2)\n",
    "#Y = pca.fit_transform(res)\n",
    "tsne = manifold.TSNE(n_components=2, init='pca',metric='euclidean',n_iter=200)\n",
    "Y = tsne.fit_transform(res)\n",
    "#Y = Y.tolist()\n",
    "print Y.shape\n",
    "plts = []\n",
    "for idx in range(0, n_class):\n",
    "    plts.append(plt.scatter(Y[locIdx[idx],0], Y[locIdx[idx],1], color=colors[idx], s = 2))\n",
    "    \n",
    "\n",
    "plt.grid(True)\n",
    "plt.legend((plts[0], plts[1], plts[2], plts[3], plts[4], plts[5], plts[6], plts[7], plts[8], plts[9]),\n",
    "       ('0', '1', '2', '3', '4', '5', '6', '7', '8', '9'),\n",
    "       scatterpoints=1,\n",
    "       loc='upper right',\n",
    "       ncol=3,\n",
    "       fontsize=8)\n",
    "plt.show()"
   ]
  },
  {
   "cell_type": "code",
   "execution_count": 61,
   "metadata": {
    "collapsed": false
   },
   "outputs": [
    {
     "ename": "ImportError",
     "evalue": "cannot import name GaussianMixture",
     "output_type": "error",
     "traceback": [
      "\u001b[1;31m---------------------------------------------------------------------------\u001b[0m",
      "\u001b[1;31mImportError\u001b[0m                               Traceback (most recent call last)",
      "\u001b[1;32m<ipython-input-61-da1528451a35>\u001b[0m in \u001b[0;36m<module>\u001b[1;34m()\u001b[0m\n\u001b[0;32m      1\u001b[0m \u001b[1;32mfrom\u001b[0m \u001b[0msklearn\u001b[0m \u001b[1;32mimport\u001b[0m \u001b[0mdatasets\u001b[0m\u001b[1;33m\u001b[0m\u001b[0m\n\u001b[1;32m----> 2\u001b[1;33m \u001b[1;32mfrom\u001b[0m \u001b[0msklearn\u001b[0m\u001b[1;33m.\u001b[0m\u001b[0mmixture\u001b[0m \u001b[1;32mimport\u001b[0m \u001b[0mGaussianMixture\u001b[0m\u001b[1;33m\u001b[0m\u001b[0m\n\u001b[0m\u001b[0;32m      3\u001b[0m \u001b[1;32mfrom\u001b[0m \u001b[0msklearn\u001b[0m\u001b[1;33m.\u001b[0m\u001b[0mmodel_selection\u001b[0m \u001b[1;32mimport\u001b[0m \u001b[0mStratifiedKFold\u001b[0m\u001b[1;33m\u001b[0m\u001b[0m\n\u001b[0;32m      4\u001b[0m \u001b[1;32mimport\u001b[0m \u001b[0mmatplotlib\u001b[0m \u001b[1;32mas\u001b[0m \u001b[0mmpl\u001b[0m\u001b[1;33m\u001b[0m\u001b[0m\n\u001b[0;32m      5\u001b[0m \u001b[1;32mimport\u001b[0m \u001b[0mmatplotlib\u001b[0m\u001b[1;33m.\u001b[0m\u001b[0mpyplot\u001b[0m \u001b[1;32mas\u001b[0m \u001b[0mplt\u001b[0m\u001b[1;33m\u001b[0m\u001b[0m\n",
      "\u001b[1;31mImportError\u001b[0m: cannot import name GaussianMixture"
     ]
    }
   ],
   "source": [
    "import itertools\n",
    "\n",
    "import numpy as np\n",
    "from scipy import linalg\n",
    "import matplotlib.pyplot as plt\n",
    "import matplotlib as mpl\n",
    "import matplotlib.cm as cm\n",
    "from sklearn import mixture"
   ]
  },
  {
   "cell_type": "code",
   "execution_count": null,
   "metadata": {
    "collapsed": true
   },
   "outputs": [],
   "source": [
    "color_iter = cm.rainbow(np.linspace(0, 1, 10))\n",
    "\n",
    "def plot_results(X, Y_, means, covariances, index, title):\n",
    "    splot = plt.subplot(2, 1, 1 + index)\n",
    "    for i, (mean, covar, color) in enumerate(zip(\n",
    "            means, covariances, color_iter)):\n",
    "        v, w = linalg.eigh(covar)\n",
    "        v = 2. * np.sqrt(2.) * np.sqrt(v)\n",
    "        u = w[0] / linalg.norm(w[0])\n",
    "        # as the DP will not use every component it has access to\n",
    "        # unless it needs it, we shouldn't plot the redundant\n",
    "        # components.\n",
    "        if not np.any(Y_ == i):\n",
    "            continue\n",
    "        plt.scatter(X[Y_ == i, 0], X[Y_ == i, 1], .8, color=color)\n",
    "\n",
    "        # Plot an ellipse to show the Gaussian component\n",
    "        angle = np.arctan(u[1] / u[0])\n",
    "        angle = 180. * angle / np.pi  # convert to degrees\n",
    "        ell = mpl.patches.Ellipse(mean, v[0], v[1], 180. + angle, color=color)\n",
    "        ell.set_clip_box(splot.bbox)\n",
    "        ell.set_alpha(0.5)\n",
    "        splot.add_artist(ell)\n",
    "\n",
    "    plt.xlim(-9., 5.)\n",
    "    plt.ylim(-3., 6.)\n",
    "    plt.xticks(())\n",
    "    plt.yticks(())\n",
    "    plt.title(title)"
   ]
  },
  {
   "cell_type": "code",
   "execution_count": null,
   "metadata": {
    "collapsed": true
   },
   "outputs": [],
   "source": [
    "label_num = 4\n",
    "indices = np.where(y_train_s[:]==label_num)[0].tolist()\n",
    "\n",
    "# Fit a Dirichlet process Gaussian mixture using five components\n",
    "dpgmm = mixture.BayesianGaussianMixture(\n",
    "    n_components=10, covariance_type='full', weight_concentration_prior=1e-5,\n",
    "    weight_concentration_prior_type='dirichlet_process',\n",
    "    mean_precision_prior=1e-2, covariance_prior=1e0 * np.eye(2),\n",
    "    init_params=\"random\", max_iter=100, random_state=2).fit(Y[indices])\n",
    "plot_results(Y[indices], dpgmm.predict(Y[indices]), dpgmm.means_, dpgmm.covariances_, 1,\n",
    "             'Bayesian Gaussian Mixture with a Dirichlet process prior')\n",
    "\n",
    "print dpgmm.means_.shape\n",
    "cluster_idx = np.unique(dpgmm.predict(Y[indices]))\n",
    "cluster_means = dpgmm.means_[cluster_idx]\n",
    "print cluster_idx\n",
    "print dpgmm.means_[cluster_idx]\n",
    "\n",
    "plt.scatter(cluster_means[:,0], cluster_means[:,1], color='red')\n",
    "plt.show()"
   ]
  },
  {
   "cell_type": "code",
   "execution_count": 60,
   "metadata": {
    "collapsed": false
   },
   "outputs": [
    {
     "ename": "AttributeError",
     "evalue": "'module' object has no attribute 'BayesianGaussianMixture'",
     "output_type": "error",
     "traceback": [
      "\u001b[1;31m---------------------------------------------------------------------------\u001b[0m",
      "\u001b[1;31mAttributeError\u001b[0m                            Traceback (most recent call last)",
      "\u001b[1;32m<ipython-input-60-bd8f8a42c764>\u001b[0m in \u001b[0;36m<module>\u001b[1;34m()\u001b[0m\n\u001b[0;32m      5\u001b[0m \u001b[1;33m\u001b[0m\u001b[0m\n\u001b[0;32m      6\u001b[0m \u001b[1;33m\u001b[0m\u001b[0m\n\u001b[1;32m----> 7\u001b[1;33m dpgmm = mixture.BayesianGaussianMixture(n_components=2,\n\u001b[0m\u001b[0;32m      8\u001b[0m                                        covariance_type='full', weight_concentration_prior=100).fit(Y[indices])\n\u001b[0;32m      9\u001b[0m plot_results(Y[indices], dpgmm.predict(Y[indices]), dpgmm.means_, 0,\n",
      "\u001b[1;31mAttributeError\u001b[0m: 'module' object has no attribute 'BayesianGaussianMixture'"
     ]
    }
   ],
   "source": []
  },
  {
   "cell_type": "code",
   "execution_count": null,
   "metadata": {
    "collapsed": true
   },
   "outputs": [],
   "source": []
  }
 ],
 "metadata": {
  "kernelspec": {
   "display_name": "Python 2",
   "language": "python",
   "name": "python2"
  },
  "language_info": {
   "codemirror_mode": {
    "name": "ipython",
    "version": 2
   },
   "file_extension": ".py",
   "mimetype": "text/x-python",
   "name": "python",
   "nbconvert_exporter": "python",
   "pygments_lexer": "ipython2",
   "version": "2.7.6"
  }
 },
 "nbformat": 4,
 "nbformat_minor": 0
}
