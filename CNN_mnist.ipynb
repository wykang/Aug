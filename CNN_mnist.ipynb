{
 "cells": [
  {
   "cell_type": "code",
   "execution_count": 1,
   "metadata": {
    "collapsed": true,
    "scrolled": true
   },
   "outputs": [],
   "source": [
    "%matplotlib inline\n",
    "import sys \n",
    "import numpy as np\n",
    "import h5py \n",
    "import matplotlib.pyplot as plt\n",
    "import time\n",
    "import datetime\n",
    "import os\n",
    "import tensorflow as tf\n",
    "from tensorflow.python import control_flow_ops\n",
    "import math\n",
    "\n",
    "import itertools\n",
    "from scipy import linalg\n",
    "from sklearn import mixture\n",
    "\n",
    "from sklearn.decomposition import PCA\n",
    "from sklearn import manifold, datasets"
   ]
  },
  {
   "cell_type": "code",
   "execution_count": 2,
   "metadata": {
    "collapsed": true,
    "scrolled": true
   },
   "outputs": [],
   "source": [
    "sess = tf.Session(config=tf.ConfigProto(gpu_options=tf.GPUOptions(allow_growth=True)))"
   ]
  },
  {
   "cell_type": "code",
   "execution_count": 3,
   "metadata": {
    "collapsed": false,
    "scrolled": true
   },
   "outputs": [
    {
     "name": "stdout",
     "output_type": "stream",
     "text": [
      "datasets: [u't_test', u't_train', u't_valid', u'x_test', u'x_train', u'x_valid']\n"
     ]
    }
   ],
   "source": [
    "## for minist\n",
    "hf = h5py.File('../data/mnist.hdf5','r')\n",
    "print('datasets: {}'.format(hf.keys()))\n",
    "\n",
    "n_class     = 10\n",
    "label_table = np.empty([n_class, 10], dtype = 'int64')\n",
    "label_table.fill(-1)\n",
    "label_table[:,0] = np.arange(n_class)\n",
    "width_size  = 28\n",
    "height_size = 28\n",
    "area_size   = width_size * height_size\n",
    "\n",
    "trainingSize = hf['x_train'].shape[0]\n",
    "validationSize = hf['x_valid'].shape[0]\n",
    "testSize = hf['x_test'].shape[0]\n",
    "\n",
    "batch_size = 200"
   ]
  },
  {
   "cell_type": "code",
   "execution_count": 4,
   "metadata": {
    "collapsed": false
   },
   "outputs": [
    {
     "data": {
      "text/plain": [
       "array([[ 0, -1, -1, -1, -1, -1, -1, -1, -1, -1],\n",
       "       [ 1, -1, -1, -1, -1, -1, -1, -1, -1, -1],\n",
       "       [ 2, -1, -1, -1, -1, -1, -1, -1, -1, -1],\n",
       "       [ 3, -1, -1, -1, -1, -1, -1, -1, -1, -1],\n",
       "       [ 4, -1, -1, -1, -1, -1, -1, -1, -1, -1],\n",
       "       [ 5, -1, -1, -1, -1, -1, -1, -1, -1, -1],\n",
       "       [ 6, -1, -1, -1, -1, -1, -1, -1, -1, -1],\n",
       "       [ 7, -1, -1, -1, -1, -1, -1, -1, -1, -1],\n",
       "       [ 8, -1, -1, -1, -1, -1, -1, -1, -1, -1],\n",
       "       [ 9, -1, -1, -1, -1, -1, -1, -1, -1, -1]])"
      ]
     },
     "execution_count": 4,
     "metadata": {},
     "output_type": "execute_result"
    }
   ],
   "source": [
    "label_table"
   ]
  },
  {
   "cell_type": "code",
   "execution_count": 5,
   "metadata": {
    "collapsed": false,
    "scrolled": true
   },
   "outputs": [
    {
     "name": "stdout",
     "output_type": "stream",
     "text": [
      "[size of each set]\n",
      "training_set : 50000, valid_set : 10000, test_set : 10000\n",
      "[size of each batch]\n",
      "training_set : 500, valid_set : 100, test_set : 100\n"
     ]
    }
   ],
   "source": [
    "\"\"\"\n",
    "datasets = load_data(dataset)\n",
    "\n",
    "train_set_x, train_set_y = datasets[0]\n",
    "valid_set_x, valid_set_y = datasets[1]\n",
    "test_set_x, test_set_y = datasets[2]\n",
    "\"\"\"\n",
    "# compute number of minibatches for training, validation and testing\n",
    "batch_size = 100\n",
    "n_train_batches = trainingSize\n",
    "n_valid_batches = validationSize\n",
    "n_test_batches = testSize\n",
    "n_train_batches /= batch_size\n",
    "n_valid_batches /= batch_size\n",
    "n_test_batches /= batch_size\n",
    "\n",
    "print '[size of each set]'\n",
    "print ('training_set : %d, valid_set : %d, test_set : %d' %(hf['x_train'].shape[0], hf['x_valid'].shape[0], hf['x_test'].shape[0]))\n",
    "print '[size of each batch]'\n",
    "print ('training_set : %d, valid_set : %d, test_set : %d' %(n_train_batches, n_valid_batches, n_test_batches))"
   ]
  },
  {
   "cell_type": "code",
   "execution_count": 6,
   "metadata": {
    "collapsed": true,
    "scrolled": true
   },
   "outputs": [],
   "source": [
    "conv1_n_param = [5, 5, 1, 32]\n",
    "poo11_n_param = (2, 2)\n",
    "conv2_n_param = [5, 5, 32, 64]\n",
    "pool2_n_param = (2, 2)\n",
    "\n",
    "conv3_n_param = [5, 5, 64, 128]\n",
    "pool3_n_param = (2, 2)\n",
    "conv4_n_param = [3, 3, 128, 256]\n",
    "pool4_n_param = (4, 4)\n",
    "\n",
    "fc1_n_param = [7 * 7 * 64, 512]      \n",
    "#fc2_n_param = [384, 192]   \n",
    "fc2_n_param = [512, n_class]"
   ]
  },
  {
   "cell_type": "code",
   "execution_count": 7,
   "metadata": {
    "collapsed": true,
    "scrolled": true
   },
   "outputs": [],
   "source": [
    "sess = tf.InteractiveSession()"
   ]
  },
  {
   "cell_type": "code",
   "execution_count": 8,
   "metadata": {
    "collapsed": true
   },
   "outputs": [],
   "source": [
    "def label_chaining(label_table, y_pred): # x = 200 x 128, w = 128 x 1, y = 200 x 1\n",
    "    # label chaining\n",
    "    empty = np.zeros(shape=(0, 2), dtype = 'int64')\n",
    "    temp_var = tf.Variable(empty, dtype=tf.int64)\n",
    "    for i in range(batch_size):\n",
    "        temp_var = tf.concat(0, [temp_var, tf.where(tf.equal(label_table, y_pred[i,0]))])\n",
    "\n",
    "    y_pred = temp_var[:,0]\n",
    "    return y_pred\n"
   ]
  },
  {
   "cell_type": "code",
   "execution_count": 9,
   "metadata": {
    "collapsed": false,
    "scrolled": true
   },
   "outputs": [],
   "source": [
    "x = tf.placeholder(\"float\", shape=[None, 28, 28, 1])\n",
    "y_ = tf.placeholder(\"float\", shape=[None, None])\n",
    "y_scalar = tf.placeholder(\"float\", shape=[None])\n",
    "dummy_bool = tf.placeholder(tf.bool, name='phase_train')\n",
    "\n",
    "def weight_variable(shape):\n",
    "    initial = tf.truncated_normal(shape, stddev=0.02)\n",
    "    return tf.Variable(initial)\n",
    "def bias_variable(shape):\n",
    "    initial = tf.constant(0.02, shape=shape)\n",
    "    return tf.Variable(initial)\n",
    "\n",
    "def conv2d(x, W, stride):\n",
    "    return tf.nn.conv2d(x, W, strides=[1, stride, stride, 1], padding='SAME')\n",
    "\n",
    "def max_pool_2x2(x, stride):\n",
    "    return tf.nn.max_pool(x, ksize=[1, 2, 2, 1],\n",
    "                        strides=[1, stride, stride, 1], padding='SAME')\n",
    "def max_pool_4x4(x, stride):\n",
    "    return tf.nn.max_pool(x, ksize=[1, 4, 4, 1],\n",
    "                        strides=[1, stride, stride, 1], padding='VALID')\n",
    "\n",
    "#x_ = tf.reshape(x, [-1, 32, 32, 1])\n",
    "W_conv1 = weight_variable(conv1_n_param)\n",
    "b_conv1 = bias_variable([conv1_n_param[-1]])\n",
    "feature_ly1 = conv2d(x, W_conv1, 1) + b_conv1\n",
    "#moments_cv1 = [var_loss_fc(feature_ly1, y_scalar, idx, dummy_bool) for idx in range(0, n_class)]\n",
    "#cv1_loss = clac_layerwise_loss(moments_cv1, conv1_n_param[-1] *32 * 32)\n",
    "h_conv1 = tf.nn.relu(feature_ly1)\n",
    "h_pool1 = max_pool_2x2(h_conv1, 2)\n",
    "\n",
    "W_conv2 = weight_variable(conv2_n_param)\n",
    "b_conv2 = bias_variable([conv2_n_param[-1]])\n",
    "feature_ly2 = conv2d(h_pool1, W_conv2, 1) + b_conv2\n",
    "#moments_cv2 = [var_loss_fc(feature_ly2, y_scalar, idx, dummy_bool) for idx in range(0, n_class)]\n",
    "#cv2_loss = clac_layerwise_loss(moments_cv2, conv2_n_param[-1] *16 * 16)\n",
    "h_conv2 = tf.nn.relu(feature_ly2)\n",
    "h_pool2 = max_pool_2x2(h_conv2, 2)\n",
    "'''\n",
    "W_conv3 = weight_variable(conv3_n_param)\n",
    "b_conv3 = bias_variable([conv3_n_param[-1]])\n",
    "feature_ly3 = conv2d(h_pool2, W_conv3, 1) + b_conv3\n",
    "#moments_cv3 = [var_loss_fc(feature_ly3, y_scalar, idx, dummy_bool) for idx in range(0, n_class)]\n",
    "#cv3_loss = clac_layerwise_loss(moments_cv3, conv3_n_param[-1] *8 * 8)\n",
    "h_conv3 = tf.nn.relu(feature_ly3)\n",
    "h_pool3 = max_pool_2x2(h_conv3, 2)\n",
    "\n",
    "W_conv4 = weight_variable(conv4_n_param)\n",
    "b_conv4 = bias_variable([conv4_n_param[-1]])\n",
    "feature_ly4 = conv2d(h_pool3, W_conv4, 1) + b_conv4\n",
    "#moments_cv4 = [var_loss_fc(feature_ly4, y_scalar, idx, dummy_bool) for idx in range(0, n_class)]\n",
    "#cv4_loss = clac_layerwise_loss(moments_cv4, conv4_n_param[-1] * 4 * 4)\n",
    "h_conv4 = tf.nn.relu(feature_ly4)\n",
    "h_pool4 = max_pool_4x4(h_conv4, 1)\n",
    "#print h_pool4.get_shape()[3]\n",
    "'''\n",
    "h_pool2_flat = tf.reshape(h_pool2, [-1, fc1_n_param[0]])\n",
    "\n",
    "W_fc1 = weight_variable(fc1_n_param)\n",
    "b_fc1 = bias_variable([fc1_n_param[-1]])\n",
    "w_sum_fc1 = tf.matmul(h_pool2_flat, W_fc1) + b_fc1\n",
    "#moments_fc1 = [var_loss_fc(w_sum_fc1, y_scalar, idx, dummy_bool) for idx in range(0, n_class)]\n",
    "#fc1_loss = clac_layerwise_loss(moments_fc1, fc1_n_param[-1])\n",
    "h_fc1 = tf.nn.relu(w_sum_fc1)\n",
    "keep_prob = tf.placeholder(\"float\")\n",
    "h_fc1 = tf.nn.dropout(h_fc1, keep_prob)\n",
    "\n",
    "\n",
    "W_fc2 = weight_variable(fc2_n_param)\n",
    "b_fc2 = bias_variable([fc2_n_param[-1]])\n",
    "w_sum_fc2 = tf.matmul(h_fc1, W_fc2) + b_fc2\n",
    "output = tf.nn.softmax(w_sum_fc2)\n",
    "cross_entropy = -tf.reduce_sum(y_*tf.log(tf.clip_by_value(output, 1e-10, 1.0))) #loss는 최종 loss + 각 레이어의 var정보\n",
    "regularizers = tf.nn.l2_loss(W_fc1) + tf.nn.l2_loss(W_fc2) + tf.nn.l2_loss(b_fc2) + tf.nn.l2_loss(b_fc1)\n",
    "\n",
    "loss = cross_entropy + 0.01*regularizers #+ fc2_loss + fc1_loss + cv2_loss + cv1_loss + cv3_loss + cv4_loss\n",
    "train_step = tf.train.AdamOptimizer(1e-4).minimize(loss)\n",
    "#print y_*tf.log(tf.clip_by_value(hid_layer_3,1e-10,1.0)).get_shape()\n",
    "\n",
    "pred_idx = tf.argmax(output,1)\n",
    "pred_idx = label_chaining(label_table, pred_idx)\n",
    "#y_ = label_chaining(label_table, tf.cast(tf.argmax(y_,1), tf.int64))\n",
    "\n",
    "#correct_prediction = tf.equal(tf.mod(tf.argmax(output,1), n_class), tf.argmax(y_,1))\n",
    "correct_prediction = tf.equal(pred_idx, tf.argmax(y_,1))\n",
    "mis_pred = tf.not_equal(tf.argmax(output,1), tf.argmax(y_,1))\n",
    "accuracy = tf.reduce_mean(tf.cast(correct_prediction, \"float\"))\n",
    "\n",
    "#correct_prediction_tr = tf.equal(tf.argmax(output,1), tf.argmax(y_,1))\n",
    "correct_prediction_tr = tf.equal(label_chaining(label_table,tf.argmax(output,1)), \n",
    "                                 label_chaining(label_table, tf.argmax(y_,1)))\n",
    "accuracy_tr = tf.reduce_mean(tf.cast(correct_prediction_tr, \"float\"))\n",
    "\n",
    "#hits = tf.pack([layer_wiseACC(output, y_scalar, idx) for idx in range(0,  n_class)])\n",
    "\n",
    "total_hits = tf.reduce_sum(tf.cast(correct_prediction, \"float\"))\n",
    "\n",
    "#batch_mean, batch_var = tf.reduce_mean(tf.gather(x, locs), 0)\n",
    "#batch_mean, batch_var = tf.nn.moments(tf.gather(x, locs), [0], name='moments')\n",
    "\n",
    "sess.run(tf.initialize_all_variables())\n"
   ]
  },
  {
   "cell_type": "code",
   "execution_count": 10,
   "metadata": {
    "collapsed": true,
    "scrolled": true
   },
   "outputs": [],
   "source": [
    "'''Convert class labels from scalars to one-hot vectors.'''\n",
    "def dense_to_one_hot(labels_dense, num_classes=n_class):\n",
    "    num_labels = labels_dense.shape[0]\n",
    "    index_offset = np.arange(num_labels) * num_classes\n",
    "    labels_one_hot = np.zeros((num_labels, num_classes), dtype=np.float32)\n",
    "    labels_one_hot.flat[index_offset + labels_dense.ravel()] = 1\n",
    "    return labels_one_hot"
   ]
  },
  {
   "cell_type": "code",
   "execution_count": 11,
   "metadata": {
    "collapsed": true,
    "scrolled": true
   },
   "outputs": [],
   "source": [
    "def find_idxs(sess, label_arr, data_arr, total_size, n_class): # x = 200 x 128, w = 128 x 1, y = 200 x 1\n",
    "    start_Idx = 0\n",
    "    end_Idx = batch_size\n",
    "    missIdx = []\n",
    "    for minibatch_index in xrange(total_size):\n",
    "        x_data = np.array(data_arr['x_train'][start_Idx:end_Idx]).reshape(batch_size,28,28,1)\n",
    "\n",
    "        y_data = dense_to_one_hot(label_arr[start_Idx:end_Idx], n_class)\n",
    "        misMat = sess.run([mis_pred], feed_dict={x: x_data, y_: y_data, y_scalar: label_arr, dummy_bool: False, keep_prob: 1.0})\n",
    "        missIdx = np.append(missIdx, np.add(np.where(np.array(misMat)), start_Idx)[1,])\n",
    "        #print misMat\n",
    "        #print np.where(~np.array(misMat))\n",
    "        #print end_Idx\n",
    "        #print label_arr[missIdx]\n",
    "        start_Idx = end_Idx\n",
    "        end_Idx = end_Idx + batch_size\n",
    "    \n",
    "    return missIdx\n"
   ]
  },
  {
   "cell_type": "code",
   "execution_count": 12,
   "metadata": {
    "collapsed": true,
    "scrolled": true
   },
   "outputs": [],
   "source": [
    "def reLabeling(sess, features, label_arr, label_table): # x = 200 x 128, w = 128 x 1, y = 200 x 1\n",
    "    ##fc2_n_param = [512, n_class] => [512, n_class*2]\n",
    "    global n_class\n",
    "    global W_fc2\n",
    "    global b_fc2\n",
    "    global w_sum_fc2\n",
    "    global output\n",
    "    global cross_entropy\n",
    "    global regularizers\n",
    "    global loss\n",
    "    global train_step\n",
    "    global correct_prediction\n",
    "    global accuracy\n",
    "    global total_hits\n",
    "    global correct_prediction_tr\n",
    "    global accuracy_tr\n",
    "    \n",
    "    ## TODO arbitrary labeling with DP\n",
    "    \n",
    "    current_labels = n_class\n",
    "    added_labels = 0\n",
    "    for idx in range(n_class):\n",
    "        indices = np.where(label_arr[:]==idx)[0].tolist()\n",
    "        dpgmm = mixture.BayesianGaussianMixture(\n",
    "            n_components=10, covariance_type='full', weight_concentration_prior=1e-5,\n",
    "            weight_concentration_prior_type='dirichlet_process',\n",
    "            mean_precision_prior=1e-4, covariance_prior=1e+1 * np.eye(features.shape[1]),\n",
    "            init_params=\"random\", max_iter=1000, random_state=11).fit(features[indices])\n",
    "        \n",
    "        pred_idxs = dpgmm.predict(features[indices])\n",
    "        cluster_idx = np.unique(pred_idxs)\n",
    "        \n",
    "        #label_arr[indices] = pred_idxs[pred_idxs == cluster_idx[0]]\n",
    "        for j in range(len(cluster_idx) - 1):\n",
    "            #np.where([pred_idxs == cluster_idx[j+1]]) => each elements that has index of j+1 from new cluster number\n",
    "            #indices[...] => original label is idx and its new label\n",
    "            #label_arr[...] => need to be changed into new label \n",
    "            label_arr[np.array(indices)[np.where([pred_idxs == cluster_idx[j+1]])[0].tolist()]] = current_labels + j\n",
    "            label_table[idx, j+1] = current_labels + j\n",
    "            \n",
    "        added_labels = len(cluster_idx)-1\n",
    "        current_labels = current_labels + added_labels\n",
    "        \n",
    "        print(idx, 'th class clustering is done!')\n",
    "        print cluster_idx\n",
    "        print cluster_idx.shape\n",
    "        \n",
    "    n_class = current_labels\n",
    "    \n",
    "    fc2_n_param[-1] = n_class\n",
    "    \n",
    "    W_fc2_temp = weight_variable([fc2_n_param[0], n_class])\n",
    "    b_fc2_temp = bias_variable([n_class])\n",
    "    \n",
    "    init_new_vars_op = tf.initialize_variables([W_fc2_temp, b_fc2_temp])\n",
    "    sess.run(init_new_vars_op)\n",
    "    W_fc2 = tf.concat(1, [W_fc2, W_fc2_temp])\n",
    "    b_fc2 = tf.concat(0, [b_fc2, b_fc2_temp])\n",
    "    print W_fc2.eval().shape\n",
    "    \n",
    "    w_sum_fc2 = tf.matmul(h_fc1, W_fc2) + b_fc2\n",
    "    output = tf.nn.softmax(w_sum_fc2)\n",
    "    cross_entropy = -tf.reduce_sum(y_*tf.log(tf.clip_by_value(output, 1e-10, 1.0))) #loss는 최종 loss + 각 레이어의 var정보\n",
    "    regularizers = tf.nn.l2_loss(W_fc1) + tf.nn.l2_loss(W_fc2) + tf.nn.l2_loss(b_fc2) + tf.nn.l2_loss(b_fc1)\n",
    "\n",
    "    loss = cross_entropy + 0.01*regularizers #+ fc2_loss + fc1_loss + cv2_loss + cv1_loss + cv3_loss + cv4_loss\n",
    "    train_step = tf.train.AdamOptimizer(1e-4).minimize(loss)\n",
    "    \n",
    "    pred_idx = tf.argmax(output,1)\n",
    "    pred_idx = label_chaining(label_table, pred_idx)\n",
    "\n",
    "    correct_prediction = tf.equal(pred_idx, tf.argmax(y_,1))  \n",
    "    accuracy = tf.reduce_mean(tf.cast(correct_prediction, \"float\"))\n",
    "    correct_prediction_tr = tf.equal(label_chaining(label_table,tf.argmax(output,1)), \n",
    "                                 label_chaining(label_table, tf.argmax(y_,1)))\n",
    "    accuracy_tr = tf.reduce_mean(tf.cast(correct_prediction_tr, \"float\"))\n",
    "    \n",
    "    total_hits = tf.reduce_sum(tf.cast(correct_prediction, \"float\"))\n",
    "    \n",
    "    sess.run(tf.initialize_all_variables())\n",
    "    \n",
    "    return label_arr\n"
   ]
  },
  {
   "cell_type": "code",
   "execution_count": 13,
   "metadata": {
    "collapsed": false,
    "scrolled": true
   },
   "outputs": [
    {
     "name": "stdout",
     "output_type": "stream",
     "text": [
      "1/100 epoch, @iter = 10000/50000, training accuracy : 0.51727\n",
      "1/100 epoch, @iter = 20000/50000, training accuracy : 0.67136\n",
      "1/100 epoch, @iter = 30000/50000, training accuracy : 0.74324\n",
      "1/100 epoch, @iter = 40000/50000, training accuracy : 0.78396\n",
      "1/100 epoch, @iter = 50000/50000, training accuracy : 0.81074\n",
      "(50000, 10)\n",
      "[[ 0 -1 -1 -1 -1 -1 -1 -1 -1 -1]\n",
      " [ 1 -1 -1 -1 -1 -1 -1 -1 -1 -1]\n",
      " [ 2 -1 -1 -1 -1 -1 -1 -1 -1 -1]\n",
      " [ 3 -1 -1 -1 -1 -1 -1 -1 -1 -1]\n",
      " [ 4 -1 -1 -1 -1 -1 -1 -1 -1 -1]\n",
      " [ 5 -1 -1 -1 -1 -1 -1 -1 -1 -1]\n",
      " [ 6 -1 -1 -1 -1 -1 -1 -1 -1 -1]\n",
      " [ 7 -1 -1 -1 -1 -1 -1 -1 -1 -1]\n",
      " [ 8 -1 -1 -1 -1 -1 -1 -1 -1 -1]\n",
      " [ 9 -1 -1 -1 -1 -1 -1 -1 -1 -1]]\n",
      "(0, 'th class clustering is done!')\n",
      "[0 1 2 3 4 5 6 7 8 9]\n",
      "(10,)\n",
      "(1, 'th class clustering is done!')\n",
      "[0 1 2 3 4 5 6 7 8 9]\n",
      "(10,)\n",
      "(2, 'th class clustering is done!')\n",
      "[0 1 2 3 4 5 6 7 8 9]\n",
      "(10,)\n",
      "(3, 'th class clustering is done!')\n",
      "[0 1 2 3 6 7 8 9]\n",
      "(8,)\n",
      "(4, 'th class clustering is done!')\n",
      "[0 1 2 3 4 5 6 7 8 9]\n",
      "(10,)\n",
      "(5, 'th class clustering is done!')\n",
      "[0 1 2 3 4 5 6 7 8 9]\n",
      "(10,)\n",
      "(6, 'th class clustering is done!')\n",
      "[0 1 2 3 4 5 6 7 8 9]\n",
      "(10,)\n",
      "(7, 'th class clustering is done!')\n",
      "[0 1 2 3 4 5 6 7 8 9]\n",
      "(10,)\n",
      "(8, 'th class clustering is done!')\n",
      "[0 1 2 4 5 6 7 8 9]\n",
      "(9,)\n",
      "(9, 'th class clustering is done!')\n",
      "[0 1 2 3 4 5 6 7 8 9]\n",
      "(10,)\n",
      "(512, 107)\n",
      "epoch 1, minibatch 500/500, valid accuracy 0.09900\n",
      "     epoch 1, minibatch 500/500, test accuracy 0.09800\n",
      "2/100 epoch, @iter = 10000/50000, training accuracy : 0.17343\n",
      "2/100 epoch, @iter = 20000/50000, training accuracy : 0.32417\n",
      "2/100 epoch, @iter = 30000/50000, training accuracy : 0.45856\n",
      "2/100 epoch, @iter = 40000/50000, training accuracy : 0.54875\n",
      "2/100 epoch, @iter = 50000/50000, training accuracy : 0.61102\n",
      "(50000, 107)\n",
      "[[ 0 10 11 12 13 14 15 16 17 18]\n",
      " [ 1 19 20 21 22 23 24 25 26 27]\n",
      " [ 2 28 29 30 31 32 33 34 35 36]\n",
      " [ 3 37 38 39 40 41 42 43 -1 -1]\n",
      " [ 4 44 45 46 47 48 49 50 51 52]\n",
      " [ 5 53 54 55 56 57 58 59 60 61]\n",
      " [ 6 62 63 64 65 66 67 68 69 70]\n",
      " [ 7 71 72 73 74 75 76 77 78 79]\n",
      " [ 8 80 81 82 83 84 85 86 87 -1]\n",
      " [ 9 88 89 90 91 92 93 94 95 96]]\n",
      "epoch 2, minibatch 500/500, valid accuracy 0.88480\n",
      "     epoch 2, minibatch 500/500, test accuracy 0.88380\n",
      "3/100 epoch, @iter = 10000/50000, training accuracy : 0.88646\n",
      "3/100 epoch, @iter = 20000/50000, training accuracy : 0.88990\n",
      "3/100 epoch, @iter = 30000/50000, training accuracy : 0.89635\n",
      "3/100 epoch, @iter = 40000/50000, training accuracy : 0.89995\n",
      "3/100 epoch, @iter = 50000/50000, training accuracy : 0.90365\n",
      "(50000, 107)\n",
      "[[ 0 10 11 12 13 14 15 16 17 18]\n",
      " [ 1 19 20 21 22 23 24 25 26 27]\n",
      " [ 2 28 29 30 31 32 33 34 35 36]\n",
      " [ 3 37 38 39 40 41 42 43 -1 -1]\n",
      " [ 4 44 45 46 47 48 49 50 51 52]\n",
      " [ 5 53 54 55 56 57 58 59 60 61]\n",
      " [ 6 62 63 64 65 66 67 68 69 70]\n",
      " [ 7 71 72 73 74 75 76 77 78 79]\n",
      " [ 8 80 81 82 83 84 85 86 87 -1]\n",
      " [ 9 88 89 90 91 92 93 94 95 96]]\n",
      "epoch 3, minibatch 500/500, valid accuracy 0.93150\n",
      "     epoch 3, minibatch 500/500, test accuracy 0.92950\n",
      "4/100 epoch, @iter = 10000/50000, training accuracy : 0.93263\n",
      "4/100 epoch, @iter = 20000/50000, training accuracy : 0.93226\n",
      "4/100 epoch, @iter = 30000/50000, training accuracy : 0.93462\n",
      "4/100 epoch, @iter = 40000/50000, training accuracy : 0.93642\n",
      "4/100 epoch, @iter = 50000/50000, training accuracy : 0.93776\n",
      "(50000, 107)\n",
      "[[ 0 10 11 12 13 14 15 16 17 18]\n",
      " [ 1 19 20 21 22 23 24 25 26 27]\n",
      " [ 2 28 29 30 31 32 33 34 35 36]\n",
      " [ 3 37 38 39 40 41 42 43 -1 -1]\n",
      " [ 4 44 45 46 47 48 49 50 51 52]\n",
      " [ 5 53 54 55 56 57 58 59 60 61]\n",
      " [ 6 62 63 64 65 66 67 68 69 70]\n",
      " [ 7 71 72 73 74 75 76 77 78 79]\n",
      " [ 8 80 81 82 83 84 85 86 87 -1]\n",
      " [ 9 88 89 90 91 92 93 94 95 96]]\n",
      "epoch 4, minibatch 500/500, valid accuracy 0.95490\n",
      "     epoch 4, minibatch 500/500, test accuracy 0.95170\n",
      "5/100 epoch, @iter = 10000/50000, training accuracy : 0.95374\n",
      "5/100 epoch, @iter = 20000/50000, training accuracy : 0.95276\n",
      "5/100 epoch, @iter = 30000/50000, training accuracy : 0.95391\n",
      "5/100 epoch, @iter = 40000/50000, training accuracy : 0.95484\n",
      "5/100 epoch, @iter = 50000/50000, training accuracy : 0.95499\n",
      "(50000, 107)\n",
      "[[ 0 10 11 12 13 14 15 16 17 18]\n",
      " [ 1 19 20 21 22 23 24 25 26 27]\n",
      " [ 2 28 29 30 31 32 33 34 35 36]\n",
      " [ 3 37 38 39 40 41 42 43 -1 -1]\n",
      " [ 4 44 45 46 47 48 49 50 51 52]\n",
      " [ 5 53 54 55 56 57 58 59 60 61]\n",
      " [ 6 62 63 64 65 66 67 68 69 70]\n",
      " [ 7 71 72 73 74 75 76 77 78 79]\n",
      " [ 8 80 81 82 83 84 85 86 87 -1]\n",
      " [ 9 88 89 90 91 92 93 94 95 96]]\n",
      "epoch 5, minibatch 500/500, valid accuracy 0.96660\n",
      "     epoch 5, minibatch 500/500, test accuracy 0.96320\n",
      "6/100 epoch, @iter = 10000/50000, training accuracy : 0.96394\n",
      "6/100 epoch, @iter = 20000/50000, training accuracy : 0.96442\n",
      "6/100 epoch, @iter = 30000/50000, training accuracy : 0.96525\n",
      "6/100 epoch, @iter = 40000/50000, training accuracy : 0.96554\n",
      "6/100 epoch, @iter = 50000/50000, training accuracy : 0.96547\n",
      "(50000, 107)\n",
      "[[ 0 10 11 12 13 14 15 16 17 18]\n",
      " [ 1 19 20 21 22 23 24 25 26 27]\n",
      " [ 2 28 29 30 31 32 33 34 35 36]\n",
      " [ 3 37 38 39 40 41 42 43 -1 -1]\n",
      " [ 4 44 45 46 47 48 49 50 51 52]\n",
      " [ 5 53 54 55 56 57 58 59 60 61]\n",
      " [ 6 62 63 64 65 66 67 68 69 70]\n",
      " [ 7 71 72 73 74 75 76 77 78 79]\n",
      " [ 8 80 81 82 83 84 85 86 87 -1]\n",
      " [ 9 88 89 90 91 92 93 94 95 96]]\n"
     ]
    },
    {
     "ename": "KeyboardInterrupt",
     "evalue": "",
     "output_type": "error",
     "traceback": [
      "\u001b[1;31m---------------------------------------------------------------------------\u001b[0m",
      "\u001b[1;31mKeyboardInterrupt\u001b[0m                         Traceback (most recent call last)",
      "\u001b[1;32m<ipython-input-13-e7218c99975b>\u001b[0m in \u001b[0;36m<module>\u001b[1;34m()\u001b[0m\n\u001b[0;32m     82\u001b[0m             \u001b[0mvalid_accuracy\u001b[0m \u001b[1;33m=\u001b[0m \u001b[1;36m0\u001b[0m\u001b[1;33m\u001b[0m\u001b[0m\n\u001b[0;32m     83\u001b[0m             \u001b[1;32mfor\u001b[0m \u001b[0mvalid_minibatch\u001b[0m \u001b[1;32min\u001b[0m \u001b[0mxrange\u001b[0m\u001b[1;33m(\u001b[0m\u001b[0mn_valid_batches\u001b[0m\u001b[1;33m)\u001b[0m\u001b[1;33m:\u001b[0m\u001b[1;33m\u001b[0m\u001b[0m\n\u001b[1;32m---> 84\u001b[1;33m                 \u001b[0mx_valid\u001b[0m \u001b[1;33m=\u001b[0m \u001b[0mnp\u001b[0m\u001b[1;33m.\u001b[0m\u001b[0marray\u001b[0m\u001b[1;33m(\u001b[0m\u001b[0mhf\u001b[0m\u001b[1;33m[\u001b[0m\u001b[1;34m'x_valid'\u001b[0m\u001b[1;33m]\u001b[0m\u001b[1;33m[\u001b[0m\u001b[0mstart_Idx_valid\u001b[0m\u001b[1;33m:\u001b[0m\u001b[0mend_Idx_valid\u001b[0m\u001b[1;33m]\u001b[0m\u001b[1;33m)\u001b[0m\u001b[1;33m.\u001b[0m\u001b[0mreshape\u001b[0m\u001b[1;33m(\u001b[0m\u001b[0mbatch_size\u001b[0m\u001b[1;33m,\u001b[0m\u001b[1;36m28\u001b[0m\u001b[1;33m,\u001b[0m\u001b[1;36m28\u001b[0m\u001b[1;33m,\u001b[0m\u001b[1;36m1\u001b[0m\u001b[1;33m)\u001b[0m\u001b[1;33m\u001b[0m\u001b[0m\n\u001b[0m\u001b[0;32m     85\u001b[0m                 \u001b[0my_valid_s\u001b[0m \u001b[1;33m=\u001b[0m \u001b[0mnp\u001b[0m\u001b[1;33m.\u001b[0m\u001b[0marray\u001b[0m\u001b[1;33m(\u001b[0m\u001b[0mhf\u001b[0m\u001b[1;33m[\u001b[0m\u001b[1;34m't_valid'\u001b[0m\u001b[1;33m]\u001b[0m\u001b[1;33m[\u001b[0m\u001b[0mstart_Idx_valid\u001b[0m\u001b[1;33m:\u001b[0m\u001b[0mend_Idx_valid\u001b[0m\u001b[1;33m]\u001b[0m\u001b[1;33m)\u001b[0m\u001b[1;33m\u001b[0m\u001b[0m\n\u001b[0;32m     86\u001b[0m                 \u001b[0my_valid\u001b[0m \u001b[1;33m=\u001b[0m \u001b[0mdense_to_one_hot\u001b[0m\u001b[1;33m(\u001b[0m\u001b[0my_valid_s\u001b[0m\u001b[1;33m,\u001b[0m \u001b[0mn_class\u001b[0m\u001b[1;33m)\u001b[0m\u001b[1;33m\u001b[0m\u001b[0m\n",
      "\u001b[1;32m/usr/lib/python2.7/dist-packages/h5py/_objects.pyx\u001b[0m in \u001b[0;36mh5py._objects.with_phil.wrapper (/tmp/pip_build_root/h5py/h5py/_objects.c:2691)\u001b[1;34m()\u001b[0m\n\u001b[0;32m     52\u001b[0m     \u001b[0mlock\u001b[0m \u001b[1;32mis\u001b[0m \u001b[0mneeded\u001b[0m\u001b[1;33m,\u001b[0m \u001b[0mit\u001b[0m \u001b[0macquires\u001b[0m \u001b[0mthe\u001b[0m \u001b[0mlock\u001b[0m \u001b[1;32mand\u001b[0m \u001b[0mnotifies\u001b[0m \u001b[0mthe\u001b[0m \u001b[0mfirst\u001b[0m \u001b[0mthread\u001b[0m\u001b[1;33m\u001b[0m\u001b[0m\n\u001b[0;32m     53\u001b[0m     \u001b[0mto\u001b[0m \u001b[0mrelease\u001b[0m \u001b[0mit\u001b[0m \u001b[0mwhen\u001b[0m \u001b[0mit\u001b[0m\u001b[0;31m'\u001b[0m\u001b[0ms\u001b[0m \u001b[0mdone\u001b[0m\u001b[1;33m.\u001b[0m  \u001b[0mThis\u001b[0m \u001b[1;32mis\u001b[0m \u001b[0mall\u001b[0m \u001b[0mmade\u001b[0m \u001b[0mpossible\u001b[0m \u001b[0mby\u001b[0m \u001b[0mthe\u001b[0m\u001b[1;33m\u001b[0m\u001b[0m\n\u001b[1;32m---> 54\u001b[1;33m     \u001b[0mwonderful\u001b[0m \u001b[0mGIL\u001b[0m\u001b[1;33m.\u001b[0m\u001b[1;33m\u001b[0m\u001b[0m\n\u001b[0m\u001b[0;32m     55\u001b[0m     \"\"\"\n\u001b[0;32m     56\u001b[0m     \u001b[0mcdef\u001b[0m \u001b[0mpythread\u001b[0m\u001b[1;33m.\u001b[0m\u001b[0mPyThread_type_lock\u001b[0m \u001b[0m_real_lock\u001b[0m\u001b[1;33m\u001b[0m\u001b[0m\n",
      "\u001b[1;32m/usr/lib/python2.7/dist-packages/h5py/_objects.pyx\u001b[0m in \u001b[0;36mh5py._objects.with_phil.wrapper (/tmp/pip_build_root/h5py/h5py/_objects.c:2649)\u001b[1;34m()\u001b[0m\n\u001b[0;32m     53\u001b[0m     \u001b[0mto\u001b[0m \u001b[0mrelease\u001b[0m \u001b[0mit\u001b[0m \u001b[0mwhen\u001b[0m \u001b[0mit\u001b[0m\u001b[0;31m'\u001b[0m\u001b[0ms\u001b[0m \u001b[0mdone\u001b[0m\u001b[1;33m.\u001b[0m  \u001b[0mThis\u001b[0m \u001b[1;32mis\u001b[0m \u001b[0mall\u001b[0m \u001b[0mmade\u001b[0m \u001b[0mpossible\u001b[0m \u001b[0mby\u001b[0m \u001b[0mthe\u001b[0m\u001b[1;33m\u001b[0m\u001b[0m\n\u001b[0;32m     54\u001b[0m     \u001b[0mwonderful\u001b[0m \u001b[0mGIL\u001b[0m\u001b[1;33m.\u001b[0m\u001b[1;33m\u001b[0m\u001b[0m\n\u001b[1;32m---> 55\u001b[1;33m     \"\"\"\n\u001b[0m\u001b[0;32m     56\u001b[0m     \u001b[0mcdef\u001b[0m \u001b[0mpythread\u001b[0m\u001b[1;33m.\u001b[0m\u001b[0mPyThread_type_lock\u001b[0m \u001b[0m_real_lock\u001b[0m\u001b[1;33m\u001b[0m\u001b[0m\n\u001b[0;32m     57\u001b[0m     \u001b[0mcdef\u001b[0m \u001b[0mlong\u001b[0m \u001b[0m_owner\u001b[0m            \u001b[1;31m# ID of thread owning the lock\u001b[0m\u001b[1;33m\u001b[0m\u001b[0m\n",
      "\u001b[1;32m/usr/local/lib/python2.7/dist-packages/h5py/_hl/dataset.pyc\u001b[0m in \u001b[0;36m__getitem__\u001b[1;34m(self, args)\u001b[0m\n\u001b[0;32m    480\u001b[0m         \u001b[0mmspace\u001b[0m \u001b[1;33m=\u001b[0m \u001b[0mh5s\u001b[0m\u001b[1;33m.\u001b[0m\u001b[0mcreate_simple\u001b[0m\u001b[1;33m(\u001b[0m\u001b[0mmshape\u001b[0m\u001b[1;33m)\u001b[0m\u001b[1;33m\u001b[0m\u001b[0m\n\u001b[0;32m    481\u001b[0m         \u001b[0mfspace\u001b[0m \u001b[1;33m=\u001b[0m \u001b[0mselection\u001b[0m\u001b[1;33m.\u001b[0m\u001b[0mid\u001b[0m\u001b[1;33m\u001b[0m\u001b[0m\n\u001b[1;32m--> 482\u001b[1;33m         \u001b[0mself\u001b[0m\u001b[1;33m.\u001b[0m\u001b[0mid\u001b[0m\u001b[1;33m.\u001b[0m\u001b[0mread\u001b[0m\u001b[1;33m(\u001b[0m\u001b[0mmspace\u001b[0m\u001b[1;33m,\u001b[0m \u001b[0mfspace\u001b[0m\u001b[1;33m,\u001b[0m \u001b[0marr\u001b[0m\u001b[1;33m,\u001b[0m \u001b[0mmtype\u001b[0m\u001b[1;33m,\u001b[0m \u001b[0mdxpl\u001b[0m\u001b[1;33m=\u001b[0m\u001b[0mself\u001b[0m\u001b[1;33m.\u001b[0m\u001b[0m_dxpl\u001b[0m\u001b[1;33m)\u001b[0m\u001b[1;33m\u001b[0m\u001b[0m\n\u001b[0m\u001b[0;32m    483\u001b[0m \u001b[1;33m\u001b[0m\u001b[0m\n\u001b[0;32m    484\u001b[0m         \u001b[1;31m# Patch up the output for NumPy\u001b[0m\u001b[1;33m\u001b[0m\u001b[1;33m\u001b[0m\u001b[0m\n",
      "\u001b[1;31mKeyboardInterrupt\u001b[0m: "
     ]
    }
   ],
   "source": [
    "###############\n",
    "# TRAIN MODEL #\n",
    "###############\n",
    "\n",
    "t_next = time.time()\n",
    "t_prev = time.time()\n",
    "\n",
    "patience = 10000  # look as this many examples regardless\n",
    "validation_frequency = min(n_train_batches, patience / 2)\n",
    "epoch_size = 100\n",
    "col_count = area_size\n",
    "startIdx = 0\n",
    "endIdx = batch_size\n",
    "k = 0\n",
    "\n",
    "current_class = 10\n",
    "partitionCnt = 0\n",
    "\n",
    "accuracy_train = 0\n",
    "valid_accuracy = 0\n",
    "test_accuracy = 0\n",
    "y_train_s = np.array(hf['t_train'][:])\n",
    "while (k <= epoch_size):\n",
    "    k = k + 1\n",
    "    start_Idx = 0\n",
    "    end_Idx = batch_size\n",
    "    accuracy_train = 0\n",
    "    class_accs_train = np.zeros(n_class)\n",
    "    total_train = 0\n",
    "    \n",
    "    feature_list = np.empty([0,0])\n",
    "    shape_fe = 0\n",
    "    for minibatch_index in xrange(n_train_batches): #per epoch\n",
    "        iter = (k - 1) * n_train_batches + minibatch_index\n",
    "        x_train = np.array(hf['x_train'][start_Idx:end_Idx]).reshape(batch_size,28,28,1)\n",
    "        #print x_train.shape\n",
    "        #y_train_s = np.array(hf['train_set_y'][start_Idx:end_Idx])\n",
    "        y_train = dense_to_one_hot(y_train_s[start_Idx:end_Idx], n_class)\n",
    "        \n",
    "        \n",
    "        #train_step.run(feed_dict={x: x_train, y_: y_train, y_scalar: y_train_s, dummy_bool: False})\n",
    "        #_, class_hits, total, misMat = sess.run([train_step, hits, total_hits, mis_pred], feed_dict={x: x_train, y_: y_train, y_scalar: y_train_s, dummy_bool: False})\n",
    "        _, misMat, features = sess.run([train_step, mis_pred, w_sum_fc2], feed_dict={x: x_train, y_: y_train, y_scalar: y_train_s, dummy_bool: False, keep_prob: 0.4})\n",
    "        accuracy_train = accuracy_train + accuracy_tr.eval(feed_dict={x: x_train, y_: y_train, y_scalar: y_train_s, dummy_bool: False, keep_prob: 1.0})\n",
    "        feature_list = np.append(feature_list, features)\n",
    "        shape_fe = features.shape\n",
    "        #class_accs_train = class_accs_train + class_hits\n",
    "        #total_train = total_train + total\n",
    "        #acc_true = total_train / (batch_size * (minibatch_index+1))     \n",
    "        \n",
    "        start_Idx = end_Idx\n",
    "        end_Idx = end_Idx + batch_size\n",
    "        #accuracy_train /= minibatch_index + 1\n",
    "        \n",
    "        \n",
    "        if end_Idx % 10000 == 0:            \n",
    "            print('%d/%d epoch, @iter = %d/%d, training accuracy : %.5f' %(k, epoch_size, end_Idx, trainingSize, accuracy_train/(minibatch_index + 1)))\n",
    "            \n",
    "        if (iter + 1) % validation_frequency == 0:\n",
    "            feature_list = feature_list.reshape((n_train_batches * batch_size, shape_fe[1]))\n",
    "            print feature_list.shape\n",
    "            print label_table\n",
    "            #print('<<<<<epoch %i, minibatch %i/%i, training accuracy %.5f>>>>>' %\n",
    "            #      (k, minibatch_index + 1, n_train_batches, acc_true))\n",
    "            #print (\"hits train, \", class_accs_train)\n",
    "            if (k == 1):\n",
    "                #missIdxs = find_idxs(sess, y_train_s, hf, n_train_batches, n_class)\n",
    "                #missIdxs = missIdxs.astype(int)\n",
    "                #print missIdxs\n",
    "                #print y_train_s[missIdxs]\n",
    "                #print missIdxs.shape\n",
    "                y_train_s = reLabeling(sess, feature_list, y_train_s, label_table)\n",
    "                n_class = n_class + 10\n",
    "                #print W_fc2.eval().shape\n",
    "                partitionCnt = partitionCnt+1\n",
    "            \n",
    "            \n",
    "            # compute zero-one loss on validation set\n",
    "            start_Idx_valid = 0\n",
    "            end_Idx_valid = batch_size\n",
    "            valid_loss = 0;\n",
    "            valid_accuracy = 0\n",
    "            for valid_minibatch in xrange(n_valid_batches):\n",
    "                x_valid = np.array(hf['x_valid'][start_Idx_valid:end_Idx_valid]).reshape(batch_size,28,28,1)\n",
    "                y_valid_s = np.array(hf['t_valid'][start_Idx_valid:end_Idx_valid])\n",
    "                y_valid = dense_to_one_hot(y_valid_s, n_class)\n",
    "                start_Idx_valid  = end_Idx_valid\n",
    "                end_Idx_valid = end_Idx_valid + batch_size               \n",
    "                valid_accuracy = valid_accuracy + accuracy.eval(feed_dict={x: x_valid, y_: y_valid, y_scalar: y_valid_s, dummy_bool: False, keep_prob: 1.0})\n",
    "\n",
    "            valid_accuracy = valid_accuracy / n_valid_batches\n",
    "            print('epoch %i, minibatch %i/%i, valid accuracy %.5f' %\n",
    "                  (k, minibatch_index + 1, n_train_batches, valid_accuracy))\n",
    "\n",
    "            # test it on the test set\n",
    "            start_Idx_test = 0\n",
    "            end_Idx_test = batch_size\n",
    "            test_loss = 0\n",
    "            test_accuracy = 0\n",
    "            class_accs_test = np.zeros(n_class)\n",
    "            for test_minibatch in xrange(n_test_batches):\n",
    "                x_test = np.array(hf['x_test'][start_Idx_test:end_Idx_test]).reshape(batch_size,28,28,1)\n",
    "                y_test_s = np.array(hf['t_test'][start_Idx_test:end_Idx_test])\n",
    "                y_test= dense_to_one_hot(y_test_s, n_class)\n",
    "                start_Idx_test  = end_Idx_test\n",
    "                end_Idx_test= end_Idx_test + batch_size\n",
    "                test_accuracy = test_accuracy + accuracy.eval(feed_dict={x: x_test, y_: y_test, y_scalar: y_test_s, dummy_bool: False, keep_prob: 1.0})\n",
    "                #class_accs_test = class_accs_test + hits.eval(feed_dict={x: x_test, y_: y_test, y_scalar: y_test_s, dummy_bool: False})\n",
    "                \n",
    "            test_score = test_loss / n_test_batches\n",
    "            test_accuracy = test_accuracy / n_test_batches\n",
    "            print('     epoch %i, minibatch %i/%i, test accuracy %.5f' %\n",
    "                      (k, minibatch_index + 1, n_train_batches, test_accuracy))\n",
    "            #print (\"hits test, \", class_accs_test)\n",
    "            #f = open(res_dir + '/status_training.txt', 'a')\n",
    "            #f.write(\"epoch %d, training accuracy %.5f, valid accuracy : %.5f, test accuracy: %.5f, cv1 %.2f, cv2 %.2f, cv3 %.2f, cv4 %.2f, fc1 %.2f\\n\"%(k, \n",
    "            #            accuracy_train/(minibatch_index + 1), valid_accuracy, test_accuracy, loss_cv1, loss_cv2, loss_cv3, loss_cv4, loss_fc1))\n",
    "            #f.close()"
   ]
  },
  {
   "cell_type": "code",
   "execution_count": 14,
   "metadata": {
    "collapsed": false
   },
   "outputs": [
    {
     "data": {
      "text/plain": [
       "array([[ 0, 10, 11, 12, 13, 14, 15, 16, 17, 18],\n",
       "       [ 1, 19, 20, 21, 22, 23, 24, 25, 26, 27],\n",
       "       [ 2, 28, 29, 30, 31, 32, 33, 34, 35, 36],\n",
       "       [ 3, 37, 38, 39, 40, 41, 42, 43, -1, -1],\n",
       "       [ 4, 44, 45, 46, 47, 48, 49, 50, 51, 52],\n",
       "       [ 5, 53, 54, 55, 56, 57, 58, 59, 60, 61],\n",
       "       [ 6, 62, 63, 64, 65, 66, 67, 68, 69, 70],\n",
       "       [ 7, 71, 72, 73, 74, 75, 76, 77, 78, 79],\n",
       "       [ 8, 80, 81, 82, 83, 84, 85, 86, 87, -1],\n",
       "       [ 9, 88, 89, 90, 91, 92, 93, 94, 95, 96]])"
      ]
     },
     "execution_count": 14,
     "metadata": {},
     "output_type": "execute_result"
    }
   ],
   "source": [
    "label_table"
   ]
  },
  {
   "cell_type": "code",
   "execution_count": 15,
   "metadata": {
    "collapsed": false
   },
   "outputs": [
    {
     "data": {
      "text/plain": [
       "array([ 0,  1,  2,  3,  4,  5,  6,  7,  8,  9, 18, 27, 36, 43, 52, 61, 70,\n",
       "       79, 87, 96])"
      ]
     },
     "execution_count": 15,
     "metadata": {},
     "output_type": "execute_result"
    }
   ],
   "source": [
    "np.unique(y_train_s)"
   ]
  },
  {
   "cell_type": "code",
   "execution_count": 28,
   "metadata": {
    "collapsed": false,
    "scrolled": true
   },
   "outputs": [],
   "source": [
    "start_Idx = 0\n",
    "end_Idx = 2000\n",
    "\n",
    "#x_train = np.array(hf['train_set_x'][start_Idx:end_Idx])\n",
    "#y_train = dense_to_one_hot(np.array(hf['train_set_y'][start_Idx:end_Idx]))\n",
    "#y_train_s = np.array(hf['train_set_y'][start_Idx:end_Idx])\n",
    "x_train = np.array(hf['x_train'][start_Idx:end_Idx]).reshape(2000,28,28,1)\n",
    "y_train_s = np.array(hf['t_train'][start_Idx:end_Idx])\n",
    "y_train = dense_to_one_hot(y_train_s[start_Idx:end_Idx], n_class)"
   ]
  },
  {
   "cell_type": "code",
   "execution_count": 29,
   "metadata": {
    "collapsed": false
   },
   "outputs": [],
   "source": [
    "import matplotlib.cm as cm\n",
    "locs = [tf.where(tf.equal(y_scalar, idx)) for idx in range(0, n_class)]\n",
    "locIdx = []\n",
    "\n",
    "for idx in range(0, n_class):\n",
    "    locIdx.append(locs[idx].eval(feed_dict={x: x_train, y_: y_train, y_scalar: y_train_s, dummy_bool: False, keep_prob: 1.0}))\n",
    "    \n",
    "colors = cm.rainbow(np.linspace(0, 1, len(locIdx)))"
   ]
  },
  {
   "cell_type": "code",
   "execution_count": 30,
   "metadata": {
    "collapsed": true,
    "scrolled": true
   },
   "outputs": [],
   "source": [
    "from sklearn.decomposition import PCA\n",
    "from sklearn import manifold, datasets"
   ]
  },
  {
   "cell_type": "code",
   "execution_count": 31,
   "metadata": {
    "collapsed": false,
    "scrolled": true
   },
   "outputs": [
    {
     "name": "stdout",
     "output_type": "stream",
     "text": [
      "(2000, 2)\n"
     ]
    },
    {
     "data": {
      "image/png": "[encoded data removed]",
      "text/plain": [
       "<matplotlib.figure.Figure at 0x7f980ef84310>"
      ]
     },
     "metadata": {},
     "output_type": "display_data"
    }
   ],
   "source": [
    "res = w_sum_fc2.eval(feed_dict={x: x_train, y_: y_train, y_scalar: y_train_s, dummy_bool: False, keep_prob: 1.0})\n",
    "pca = PCA(n_components=2)\n",
    "Y = pca.fit_transform(res)\n",
    "#tsne = manifold.TSNE(n_components=2, init='pca',metric='euclidean',n_iter=200)\n",
    "#Y = tsne.fit_transform(res)\n",
    "#Y = Y.tolist()\n",
    "print Y.shape\n",
    "plts = []\n",
    "for idx in range(0, n_class):\n",
    "    plts.append(plt.scatter(Y[locIdx[idx],0], Y[locIdx[idx],1], color=colors[idx], s = 2))\n",
    "    \n",
    "\n",
    "plt.grid(True)\n",
    "plt.legend((plts[0], plts[1], plts[2], plts[3], plts[4], plts[5], plts[6], plts[7], plts[8], plts[9]),\n",
    "       ('0', '1', '2', '3', '4', '5', '6', '7', '8', '9'),\n",
    "       scatterpoints=1,\n",
    "       loc='upper right',\n",
    "       ncol=3,\n",
    "       fontsize=8)\n",
    "plt.show()"
   ]
  },
  {
   "cell_type": "code",
   "execution_count": 32,
   "metadata": {
    "collapsed": true,
    "scrolled": true
   },
   "outputs": [],
   "source": [
    "import itertools\n",
    "\n",
    "import numpy as np\n",
    "from scipy import linalg\n",
    "import matplotlib.pyplot as plt\n",
    "import matplotlib as mpl\n",
    "import matplotlib.cm as cm\n",
    "from sklearn import mixture"
   ]
  },
  {
   "cell_type": "code",
   "execution_count": 33,
   "metadata": {
    "collapsed": true,
    "scrolled": true
   },
   "outputs": [],
   "source": [
    "#color_iter = cm.rainbow(np.linspace(0, 1, 10))\n",
    "color_iter = cm.rainbow(np.linspace(0, 1, len(locIdx)))\n",
    "def plot_results(X, Y_, means, covariances, index, title):\n",
    "    splot = plt.subplot(2, 1, 1 + index)\n",
    "    for i, (mean, covar, color) in enumerate(zip(\n",
    "            means, covariances, color_iter)):\n",
    "        v, w = linalg.eigh(covar)\n",
    "        v = 2. * np.sqrt(2.) * np.sqrt(v)\n",
    "        u = w[0] / linalg.norm(w[0])\n",
    "        # as the DP will not use every component it has access to\n",
    "        # unless it needs it, we shouldn't plot the redundant\n",
    "        # components.\n",
    "        if not np.any(Y_ == i):\n",
    "            continue\n",
    "        plt.scatter(X[Y_ == i, 0], X[Y_ == i, 1], .8, color=color)\n",
    "\n",
    "        # Plot an ellipse to show the Gaussian component\n",
    "        angle = np.arctan(u[1] / u[0])\n",
    "        angle = 180. * angle / np.pi  # convert to degrees\n",
    "        ell = mpl.patches.Ellipse(mean, v[0], v[1], 180. + angle, color=color)\n",
    "        ell.set_clip_box(splot.bbox)\n",
    "        ell.set_alpha(0.5)\n",
    "        #splot.add_artist(ell)\n",
    "\n",
    "    #plt.xlim(-9., 5.)\n",
    "    #plt.ylim(-3., 6.)\n",
    "    plt.xticks(())\n",
    "    plt.yticks(())\n",
    "    plt.title(title)"
   ]
  },
  {
   "cell_type": "code",
   "execution_count": 36,
   "metadata": {
    "collapsed": false,
    "scrolled": true
   },
   "outputs": [
    {
     "name": "stdout",
     "output_type": "stream",
     "text": [
      "180\n",
      "(10, 2)\n",
      "[0 1]\n",
      "[[-0.97116623  1.0895773 ]\n",
      " [-2.71855908  3.84383487]]\n"
     ]
    },
    {
     "data": {
      "image/png": "[encoded data removed]",
      "text/plain": [
       "<matplotlib.figure.Figure at 0x7f980ece71d0>"
      ]
     },
     "metadata": {},
     "output_type": "display_data"
    }
   ],
   "source": [
    "label_num =5\n",
    "indices = np.where(y_train_s[:]==label_num)[0].tolist()\n",
    "print len(indices)\n",
    "# Fit a Dirichlet process Gaussian mixture using five components\n",
    "'''\n",
    "dpgmm = mixture.BayesianGaussianMixture(\n",
    "    n_components=10, covariance_type='full', weight_concentration_prior=1e-2,\n",
    "    weight_concentration_prior_type='dirichlet_process',\n",
    "    mean_precision_prior=1e-5, covariance_prior=1e+2 * np.eye(2),\n",
    "    init_params=\"random\", max_iter=1000, random_state=11).fit(Y[indices])\n",
    "plot_results(Y[indices], dpgmm.predict(Y[indices]), dpgmm.means_, dpgmm.covariances_, 1,\n",
    "             'Bayesian Gaussian Mixture with a Dirichlet process prior')\n",
    "'''\n",
    "\n",
    "dpgmm = mixture.BayesianGaussianMixture(\n",
    "    n_components=10, covariance_type='full', weight_concentration_prior=1e-5,\n",
    "    weight_concentration_prior_type='dirichlet_process',\n",
    "    mean_precision_prior=1e-4, covariance_prior=1e+1 * np.eye(2),\n",
    "    init_params=\"random\", max_iter=1000, random_state=11).fit(Y[indices])\n",
    "plot_results(Y[indices], dpgmm.predict(Y[indices]), dpgmm.means_, dpgmm.covariances_, 1,\n",
    "             'Bayesian Gaussian Mixture with a Dirichlet process prior')\n",
    "print dpgmm.means_.shape\n",
    "cluster_idx = np.unique(dpgmm.predict(Y[indices]))\n",
    "cluster_means = dpgmm.means_[cluster_idx]\n",
    "print cluster_idx\n",
    "print cluster_means\n",
    "\n",
    "plt.scatter(cluster_means[:,0], cluster_means[:,1], color='red')\n",
    "plt.show()"
   ]
  },
  {
   "cell_type": "code",
   "execution_count": 38,
   "metadata": {
    "collapsed": false
   },
   "outputs": [
    {
     "data": {
      "text/plain": [
       "2"
      ]
     },
     "execution_count": 38,
     "metadata": {},
     "output_type": "execute_result"
    }
   ],
   "source": [
    "len(cluster_idx)"
   ]
  },
  {
   "cell_type": "code",
   "execution_count": null,
   "metadata": {
    "collapsed": true
   },
   "outputs": [],
   "source": []
  }
 ],
 "metadata": {
  "kernelspec": {
   "display_name": "Python 2",
   "language": "python",
   "name": "python2"
  },
  "language_info": {
   "codemirror_mode": {
    "name": "ipython",
    "version": 2
   },
   "file_extension": ".py",
   "mimetype": "text/x-python",
   "name": "python",
   "nbconvert_exporter": "python",
   "pygments_lexer": "ipython2",
   "version": "2.7.6"
  }
 },
 "nbformat": 4,
 "nbformat_minor": 0
}
